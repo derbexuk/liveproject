{
 "cells": [
  {
   "cell_type": "markdown",
   "metadata": {},
   "source": [
    "# Engineering Predictive Alpha Factors"
   ]
  },
  {
   "cell_type": "markdown",
   "metadata": {},
   "source": [
    "This notebook illustrates the following steps:\n",
    "\n",
    "1. Select the adjusted open, high, low, and close prices as well as the volume for all tickers from the Quandl Wiki data that you downloaded and simplified for the last milestone for the 2007-2016 time period. Looking ahead, we will use 2014-2016 as our 'out-of-sample' period to test the performance of a strategy based on a machine learning model selected using data from preceding periods.\n",
    "2. Compute the dollar volume as the product of closing price and trading volume; then select the stocks with at least eight years of data and the lowest average daily rank for this metric. \n",
    "3. Compute daily returns and keep only 'inliers' with values between -100% and + 100% as a basic check against data error.\n",
    "4. Now we're ready to compute financial features. The Alpha Factory Library listed among the resources below illustrates how to compute a broad range of those using pandas and TA-Lib. We will list a few examples; feel free to explore and evaluate the various TA-Lib indicators.\n",
    "    - Compute **historical returns** for various time ranges such as 1, 3, 5, 10, 21 trading days, as well as longer periods like 2, 3, 6 and 12 months.\n",
    "    - Use TA-Lib's **Bollinger Band** indicator to create features that anticipate **mean-reversion**.\n",
    "    - Select some indicators from TA-Lib's **momentum** indicators family such as\n",
    "        - the Average Directional Movement Index (ADX), \n",
    "        - the Moving Average Convergence Divergence (MACD), \n",
    "        - the Relative Strength Index (RSI), \n",
    "        - the Balance of Power (BOP) indictor, or \n",
    "        - the Money Flow Index (MFI).\n",
    "    - Compute TA-Lib **volume** indicators like On Balance Volume (OBV) or the Chaikin A/D Oscillator (ADOSC)\n",
    "    - Create volatility metrics such as the Normalized Average True Range (NATR).\n",
    "    - Compute rolling factor betas using the five Fama-French risk factors for different rolling windows of three and 12 months (see resources below).\n",
    "    - Compute the outcome variable that we will aim to predict, namely the 1-day forward returns."
   ]
  },
  {
   "cell_type": "markdown",
   "metadata": {},
   "source": [
    "## Usage tips\n",
    "\n",
    "- If you experience resource constraints (suddenly restarting Kernel), increase the memory available for Docker Desktop (> Settings > Advanced). If this not possible or you experienced prolonged execution times, reduce the scope of the exercise. The easiest way to do so is to select fewer stocks or a shorter time period, or both.\n",
    "- You may want to persist intermediate results so you can recover quickly in case something goes wrong. There's an example under the first 'Persist Results' subsection."
   ]
  },
  {
   "cell_type": "markdown",
   "metadata": {},
   "source": [
    "## Imports & Settings"
   ]
  },
  {
   "cell_type": "code",
   "execution_count": 1,
   "metadata": {
    "ExecuteTime": {
     "end_time": "2020-07-14T13:15:13.439296Z",
     "start_time": "2020-07-14T13:15:13.437658Z"
    }
   },
   "outputs": [],
   "source": [
    "import warnings\n",
    "warnings.filterwarnings('ignore')"
   ]
  },
  {
   "cell_type": "code",
   "execution_count": 2,
   "metadata": {
    "ExecuteTime": {
     "end_time": "2020-07-14T13:15:14.100318Z",
     "start_time": "2020-07-14T13:15:13.442824Z"
    }
   },
   "outputs": [],
   "source": [
    "%matplotlib inline\n",
    "\n",
    "from pathlib import Path\n",
    "import numpy as np\n",
    "import pandas as pd\n",
    "import pandas_datareader.data as web\n",
    "\n",
    "import statsmodels.api as sm\n",
    "from statsmodels.regression.rolling import RollingOLS\n",
    "from sklearn.preprocessing import scale\n",
    "import talib\n",
    "\n",
    "import matplotlib.pyplot as plt\n",
    "import seaborn as sns"
   ]
  },
  {
   "cell_type": "code",
   "execution_count": 3,
   "metadata": {
    "ExecuteTime": {
     "end_time": "2020-07-14T13:15:14.104107Z",
     "start_time": "2020-07-14T13:15:14.101491Z"
    }
   },
   "outputs": [],
   "source": [
    "sns.set_style('whitegrid')\n",
    "idx = pd.IndexSlice\n",
    "deciles = np.arange(.1, 1, .1).round(1)"
   ]
  },
  {
   "cell_type": "markdown",
   "metadata": {},
   "source": [
    "## Load Data"
   ]
  },
  {
   "cell_type": "code",
   "execution_count": 4,
   "metadata": {
    "ExecuteTime": {
     "end_time": "2020-07-14T13:15:14.120940Z",
     "start_time": "2020-07-14T13:15:14.105281Z"
    }
   },
   "outputs": [],
   "source": [
    "DATA_STORE = Path('.', 'data', 'stock_prices.h5')"
   ]
  },
  {
   "cell_type": "code",
   "execution_count": 5,
   "metadata": {
    "ExecuteTime": {
     "end_time": "2021-02-06T01:59:37.856956Z",
     "start_time": "2021-02-06T01:59:37.799466Z"
    }
   },
   "outputs": [
    {
     "name": "stdout",
     "output_type": "stream",
     "text": [
      "<class 'pandas.core.frame.DataFrame'>\n",
      "Int64Index: 10561466 entries, 30 to 15389004\n",
      "Data columns (total 9 columns):\n",
      " #   Column       Dtype         \n",
      "---  ------       -----         \n",
      " 0   ticker       object        \n",
      " 1   date         datetime64[ns]\n",
      " 2   ex-dividend  float64       \n",
      " 3   split_ratio  float64       \n",
      " 4   open         float64       \n",
      " 5   high         float64       \n",
      " 6   low          float64       \n",
      " 7   close        float64       \n",
      " 8   volume       float64       \n",
      "dtypes: datetime64[ns](1), float64(7), object(1)\n",
      "memory usage: 805.8+ MB\n"
     ]
    }
   ],
   "source": [
    "with pd.HDFStore(DATA_STORE) as store:\n",
    "    stock_df = store.select('/us_stocks', where='date >= 20000101 & date < 20170101')\n",
    "    \n",
    "stock_df.info()"
   ]
  },
  {
   "cell_type": "markdown",
   "metadata": {},
   "source": [
    "## Select 500 most-traded stocks prior to 2017"
   ]
  },
  {
   "cell_type": "markdown",
   "metadata": {},
   "source": [
    "Compute the dollar volume as the product of the adjusted close price and the adjusted volume:"
   ]
  },
  {
   "cell_type": "code",
   "execution_count": 6,
   "metadata": {},
   "outputs": [],
   "source": [
    "stock_df['dollar-volume'] = stock_df['close'] * stock_df['volume']"
   ]
  },
  {
   "cell_type": "code",
   "execution_count": 7,
   "metadata": {},
   "outputs": [
    {
     "data": {
      "text/plain": [
       "<bound method NDFrame.head of          ticker       date  ex-dividend  split_ratio       open       high  \\\n",
       "30            A 2000-01-03          0.0          1.0  53.726454  53.856080   \n",
       "31            A 2000-01-04          0.0          1.0  46.481058  46.992738   \n",
       "32            A 2000-01-05          0.0          1.0  45.198445  45.239380   \n",
       "33            A 2000-01-06          0.0          1.0  42.046493  42.298923   \n",
       "34            A 2000-01-07          0.0          1.0  40.293135  44.986951   \n",
       "...         ...        ...          ...          ...        ...        ...   \n",
       "15389000   ZUMZ 2016-12-23          0.0          1.0  20.950000  21.500000   \n",
       "15389001   ZUMZ 2016-12-27          0.0          1.0  21.200000  21.700000   \n",
       "15389002   ZUMZ 2016-12-28          0.0          1.0  21.550000  21.749900   \n",
       "15389003   ZUMZ 2016-12-29          0.0          1.0  21.550000  22.050000   \n",
       "15389004   ZUMZ 2016-12-30          0.0          1.0  21.900000  22.190000   \n",
       "\n",
       "                low      close     volume  dollar-volume  \n",
       "30        45.969377  49.121329  3343600.0   1.642421e+08  \n",
       "31        44.175084  45.369006  3408500.0   1.546403e+08  \n",
       "32        41.828176  41.998737  4119200.0   1.730012e+08  \n",
       "33        39.658651  40.934441  1812900.0   7.421005e+07  \n",
       "34        40.252200  44.345645  2016900.0   8.944073e+07  \n",
       "...             ...        ...        ...            ...  \n",
       "15389000  20.950000  21.350000   532292.0   1.136443e+07  \n",
       "15389001  21.200000  21.450000   308004.0   6.606686e+06  \n",
       "15389002  21.325000  21.450000   165827.0   3.556989e+06  \n",
       "15389003  21.400000  21.900000   322108.0   7.054165e+06  \n",
       "15389004  21.600000  21.850000   295429.0   6.455124e+06  \n",
       "\n",
       "[10561466 rows x 10 columns]>"
      ]
     },
     "execution_count": 7,
     "metadata": {},
     "output_type": "execute_result"
    }
   ],
   "source": [
    "stock_df.head"
   ]
  },
  {
   "cell_type": "code",
   "execution_count": 8,
   "metadata": {},
   "outputs": [
    {
     "name": "stdout",
     "output_type": "stream",
     "text": [
      "2024\n",
      "ticker\n",
      "A       4277\n",
      "AA        42\n",
      "AAL     2836\n",
      "AAMC    1020\n",
      "AAN     4277\n",
      "        ... \n",
      "ZNGA    1268\n",
      "ZOES     687\n",
      "ZQK     3946\n",
      "ZTS      987\n",
      "ZUMZ    2935\n",
      "Length: 3186, dtype: int64\n"
     ]
    },
    {
     "data": {
      "text/plain": [
       "Index(['A', 'AAL', 'AAN', 'AAON', 'AAP', 'AAPL', 'AAWW', 'ABAX', 'ABC', 'ABCB',\n",
       "       ...\n",
       "       'ZEUS', 'ZIGO', 'ZINC', 'ZION', 'ZIOP', 'ZIXI', 'ZLC', 'ZMH', 'ZQK',\n",
       "       'ZUMZ'],\n",
       "      dtype='object', name='ticker', length=2528)"
      ]
     },
     "execution_count": 8,
     "metadata": {},
     "output_type": "execute_result"
    }
   ],
   "source": [
    "TRADING_DAYS_PER_YEAR = 253\n",
    "minObs = TRADING_DAYS_PER_YEAR * 8\n",
    "print(minObs)\n",
    "\n",
    "nObs = stock_df.groupby('ticker').size()\n",
    "print(nObs)\n",
    "keep = nObs[nObs > minObs].index\n",
    "keep"
   ]
  },
  {
   "cell_type": "code",
   "execution_count": 9,
   "metadata": {},
   "outputs": [],
   "source": [
    "stock_df = stock_df[stock_df['ticker'].isin(keep)]"
   ]
  },
  {
   "cell_type": "code",
   "execution_count": 10,
   "metadata": {},
   "outputs": [],
   "source": [
    "dGrp = stock_df.groupby('date')\n",
    "#stock_df['dollar-volume'].rank()"
   ]
  },
  {
   "cell_type": "code",
   "execution_count": 11,
   "metadata": {},
   "outputs": [
    {
     "data": {
      "text/html": [
       "<div>\n",
       "<style scoped>\n",
       "    .dataframe tbody tr th:only-of-type {\n",
       "        vertical-align: middle;\n",
       "    }\n",
       "\n",
       "    .dataframe tbody tr th {\n",
       "        vertical-align: top;\n",
       "    }\n",
       "\n",
       "    .dataframe thead th {\n",
       "        text-align: right;\n",
       "    }\n",
       "</style>\n",
       "<table border=\"1\" class=\"dataframe\">\n",
       "  <thead>\n",
       "    <tr style=\"text-align: right;\">\n",
       "      <th></th>\n",
       "      <th>ticker</th>\n",
       "      <th>date</th>\n",
       "      <th>ex-dividend</th>\n",
       "      <th>split_ratio</th>\n",
       "      <th>open</th>\n",
       "      <th>high</th>\n",
       "      <th>low</th>\n",
       "      <th>close</th>\n",
       "      <th>volume</th>\n",
       "      <th>dollar-volume</th>\n",
       "      <th>daily-rank</th>\n",
       "    </tr>\n",
       "  </thead>\n",
       "  <tbody>\n",
       "    <tr>\n",
       "      <th>15389000</th>\n",
       "      <td>ZUMZ</td>\n",
       "      <td>2016-12-23</td>\n",
       "      <td>0.0</td>\n",
       "      <td>1.0</td>\n",
       "      <td>20.95</td>\n",
       "      <td>21.5000</td>\n",
       "      <td>20.950</td>\n",
       "      <td>21.35</td>\n",
       "      <td>532292.0</td>\n",
       "      <td>11364434.20</td>\n",
       "      <td>1212.0</td>\n",
       "    </tr>\n",
       "    <tr>\n",
       "      <th>15389001</th>\n",
       "      <td>ZUMZ</td>\n",
       "      <td>2016-12-27</td>\n",
       "      <td>0.0</td>\n",
       "      <td>1.0</td>\n",
       "      <td>21.20</td>\n",
       "      <td>21.7000</td>\n",
       "      <td>21.200</td>\n",
       "      <td>21.45</td>\n",
       "      <td>308004.0</td>\n",
       "      <td>6606685.80</td>\n",
       "      <td>975.0</td>\n",
       "    </tr>\n",
       "    <tr>\n",
       "      <th>15389002</th>\n",
       "      <td>ZUMZ</td>\n",
       "      <td>2016-12-28</td>\n",
       "      <td>0.0</td>\n",
       "      <td>1.0</td>\n",
       "      <td>21.55</td>\n",
       "      <td>21.7499</td>\n",
       "      <td>21.325</td>\n",
       "      <td>21.45</td>\n",
       "      <td>165827.0</td>\n",
       "      <td>3556989.15</td>\n",
       "      <td>696.0</td>\n",
       "    </tr>\n",
       "    <tr>\n",
       "      <th>15389003</th>\n",
       "      <td>ZUMZ</td>\n",
       "      <td>2016-12-29</td>\n",
       "      <td>0.0</td>\n",
       "      <td>1.0</td>\n",
       "      <td>21.55</td>\n",
       "      <td>22.0500</td>\n",
       "      <td>21.400</td>\n",
       "      <td>21.90</td>\n",
       "      <td>322108.0</td>\n",
       "      <td>7054165.20</td>\n",
       "      <td>977.0</td>\n",
       "    </tr>\n",
       "    <tr>\n",
       "      <th>15389004</th>\n",
       "      <td>ZUMZ</td>\n",
       "      <td>2016-12-30</td>\n",
       "      <td>0.0</td>\n",
       "      <td>1.0</td>\n",
       "      <td>21.90</td>\n",
       "      <td>22.1900</td>\n",
       "      <td>21.600</td>\n",
       "      <td>21.85</td>\n",
       "      <td>295429.0</td>\n",
       "      <td>6455123.65</td>\n",
       "      <td>866.0</td>\n",
       "    </tr>\n",
       "  </tbody>\n",
       "</table>\n",
       "</div>"
      ],
      "text/plain": [
       "         ticker       date  ex-dividend  split_ratio   open     high     low  \\\n",
       "15389000   ZUMZ 2016-12-23          0.0          1.0  20.95  21.5000  20.950   \n",
       "15389001   ZUMZ 2016-12-27          0.0          1.0  21.20  21.7000  21.200   \n",
       "15389002   ZUMZ 2016-12-28          0.0          1.0  21.55  21.7499  21.325   \n",
       "15389003   ZUMZ 2016-12-29          0.0          1.0  21.55  22.0500  21.400   \n",
       "15389004   ZUMZ 2016-12-30          0.0          1.0  21.90  22.1900  21.600   \n",
       "\n",
       "          close    volume  dollar-volume  daily-rank  \n",
       "15389000  21.35  532292.0    11364434.20      1212.0  \n",
       "15389001  21.45  308004.0     6606685.80       975.0  \n",
       "15389002  21.45  165827.0     3556989.15       696.0  \n",
       "15389003  21.90  322108.0     7054165.20       977.0  \n",
       "15389004  21.85  295429.0     6455123.65       866.0  "
      ]
     },
     "execution_count": 11,
     "metadata": {},
     "output_type": "execute_result"
    }
   ],
   "source": [
    "stock_df['daily-rank'] = dGrp['dollar-volume'].rank()\n",
    "stock_df.tail()"
   ]
  },
  {
   "cell_type": "code",
   "execution_count": 12,
   "metadata": {},
   "outputs": [
    {
     "data": {
      "text/plain": [
       "ticker\n",
       "A       1977.764555\n",
       "AAL     2288.401622\n",
       "AAN      586.835632\n",
       "AAON     620.805354\n",
       "AAP     1944.249803\n",
       "           ...     \n",
       "ZIXI     684.787351\n",
       "ZLC     1284.504004\n",
       "ZMH     2105.309823\n",
       "ZQK     1289.242524\n",
       "ZUMZ    1275.064395\n",
       "Name: daily-rank, Length: 2528, dtype: float64"
      ]
     },
     "execution_count": 12,
     "metadata": {},
     "output_type": "execute_result"
    }
   ],
   "source": [
    "avgRank = stock_df.groupby('ticker')['daily-rank'].mean()\n",
    "avgRank"
   ]
  },
  {
   "cell_type": "code",
   "execution_count": 17,
   "metadata": {},
   "outputs": [
    {
     "name": "stdout",
     "output_type": "stream",
     "text": [
      "<class 'pandas.core.frame.DataFrame'>\n",
      "Int64Index: 1914984 entries, 58938 to 15318829\n",
      "Data columns (total 11 columns):\n",
      " #   Column         Dtype         \n",
      "---  ------         -----         \n",
      " 0   ticker         object        \n",
      " 1   date           datetime64[ns]\n",
      " 2   ex-dividend    float64       \n",
      " 3   split_ratio    float64       \n",
      " 4   open           float64       \n",
      " 5   high           float64       \n",
      " 6   low            float64       \n",
      " 7   close          float64       \n",
      " 8   volume         float64       \n",
      " 9   dollar-volume  float64       \n",
      " 10  daily-rank     float64       \n",
      "dtypes: datetime64[ns](1), float64(9), object(1)\n",
      "memory usage: 175.3+ MB\n"
     ]
    }
   ],
   "source": [
    "keep = avgRank.sort_values()[:500].index\n",
    "stock_df = stock_df[stock_df['ticker'].isin(keep)]\n",
    "stock_df.info()"
   ]
  },
  {
   "cell_type": "markdown",
   "metadata": {},
   "source": [
    "## Remove outliers based on daily returns"
   ]
  },
  {
   "cell_type": "code",
   "execution_count": 29,
   "metadata": {},
   "outputs": [],
   "source": [
    "stock_df = stock_df[stock_df['close'].pct_change() > -0.99]\n",
    "stock_df = stock_df[stock_df['close'].pct_change() < 0.99]"
   ]
  },
  {
   "cell_type": "code",
   "execution_count": 31,
   "metadata": {},
   "outputs": [],
   "source": [
    "with pd.HDFStore(DATA_STORE) as store:\n",
    "    store.put('clean_us_stocks', stock_df, format='table', data_columns=True)"
   ]
  },
  {
   "cell_type": "code",
   "execution_count": 6,
   "metadata": {},
   "outputs": [
    {
     "name": "stdout",
     "output_type": "stream",
     "text": [
      "<class 'pandas.core.frame.DataFrame'>\n",
      "Int64Index: 1914621 entries, 58940 to 15318829\n",
      "Data columns (total 11 columns):\n",
      " #   Column         Dtype         \n",
      "---  ------         -----         \n",
      " 0   ticker         object        \n",
      " 1   date           datetime64[ns]\n",
      " 2   ex-dividend    float64       \n",
      " 3   split_ratio    float64       \n",
      " 4   open           float64       \n",
      " 5   high           float64       \n",
      " 6   low            float64       \n",
      " 7   close          float64       \n",
      " 8   volume         float64       \n",
      " 9   dollar-volume  float64       \n",
      " 10  daily-rank     float64       \n",
      "dtypes: datetime64[ns](1), float64(9), object(1)\n",
      "memory usage: 175.3+ MB\n"
     ]
    }
   ],
   "source": [
    "with pd.HDFStore(DATA_STORE) as store:\n",
    "    clean_df = store.get('/clean_us_stocks')\n",
    "    \n",
    "clean_df.info()"
   ]
  },
  {
   "cell_type": "markdown",
   "metadata": {},
   "source": [
    "## Compute returns"
   ]
  },
  {
   "cell_type": "code",
   "execution_count": 15,
   "metadata": {},
   "outputs": [
    {
     "name": "stdout",
     "output_type": "stream",
     "text": [
      "ret_1\n",
      "ret_3\n",
      "ret_5\n",
      "ret_10\n",
      "ret_42\n",
      "ret_21\n",
      "ret_253\n",
      "ret_126\n",
      "ret_63\n",
      "<class 'pandas.core.frame.DataFrame'>\n",
      "Int64Index: 1914621 entries, 58940 to 15318829\n",
      "Data columns (total 21 columns):\n",
      " #   Column         Dtype         \n",
      "---  ------         -----         \n",
      " 0   ticker         object        \n",
      " 1   date           datetime64[ns]\n",
      " 2   ex-dividend    float64       \n",
      " 3   split_ratio    float64       \n",
      " 4   open           float64       \n",
      " 5   high           float64       \n",
      " 6   low            float64       \n",
      " 7   close          float64       \n",
      " 8   volume         float64       \n",
      " 9   dollar-volume  float64       \n",
      " 10  daily-rank     float64       \n",
      " 11  ret_{lag}      float64       \n",
      " 12  ret_1          float64       \n",
      " 13  ret_3          float64       \n",
      " 14  ret_5          float64       \n",
      " 15  ret_10         float64       \n",
      " 16  ret_42         float64       \n",
      " 17  ret_21         float64       \n",
      " 18  ret_253        float64       \n",
      " 19  ret_126        float64       \n",
      " 20  ret_63         float64       \n",
      "dtypes: datetime64[ns](1), float64(19), object(1)\n",
      "memory usage: 321.4+ MB\n"
     ]
    },
    {
     "data": {
      "text/html": [
       "<div>\n",
       "<style scoped>\n",
       "    .dataframe tbody tr th:only-of-type {\n",
       "        vertical-align: middle;\n",
       "    }\n",
       "\n",
       "    .dataframe tbody tr th {\n",
       "        vertical-align: top;\n",
       "    }\n",
       "\n",
       "    .dataframe thead th {\n",
       "        text-align: right;\n",
       "    }\n",
       "</style>\n",
       "<table border=\"1\" class=\"dataframe\">\n",
       "  <thead>\n",
       "    <tr style=\"text-align: right;\">\n",
       "      <th></th>\n",
       "      <th>ticker</th>\n",
       "      <th>date</th>\n",
       "      <th>ex-dividend</th>\n",
       "      <th>split_ratio</th>\n",
       "      <th>open</th>\n",
       "      <th>high</th>\n",
       "      <th>low</th>\n",
       "      <th>close</th>\n",
       "      <th>volume</th>\n",
       "      <th>dollar-volume</th>\n",
       "      <th>...</th>\n",
       "      <th>ret_{lag}</th>\n",
       "      <th>ret_1</th>\n",
       "      <th>ret_3</th>\n",
       "      <th>ret_5</th>\n",
       "      <th>ret_10</th>\n",
       "      <th>ret_42</th>\n",
       "      <th>ret_21</th>\n",
       "      <th>ret_253</th>\n",
       "      <th>ret_126</th>\n",
       "      <th>ret_63</th>\n",
       "    </tr>\n",
       "  </thead>\n",
       "  <tbody>\n",
       "    <tr>\n",
       "      <th>15318825</th>\n",
       "      <td>ZAZA</td>\n",
       "      <td>2015-09-28</td>\n",
       "      <td>0.0</td>\n",
       "      <td>1.0</td>\n",
       "      <td>0.3550</td>\n",
       "      <td>0.3700</td>\n",
       "      <td>0.3410</td>\n",
       "      <td>0.3410</td>\n",
       "      <td>31134.0</td>\n",
       "      <td>10616.6940</td>\n",
       "      <td>...</td>\n",
       "      <td>-0.589157</td>\n",
       "      <td>-0.078378</td>\n",
       "      <td>-0.057490</td>\n",
       "      <td>-0.127877</td>\n",
       "      <td>-0.102632</td>\n",
       "      <td>-0.431667</td>\n",
       "      <td>-0.197269</td>\n",
       "      <td>-0.916626</td>\n",
       "      <td>-0.793333</td>\n",
       "      <td>-0.589157</td>\n",
       "    </tr>\n",
       "    <tr>\n",
       "      <th>15318826</th>\n",
       "      <td>ZAZA</td>\n",
       "      <td>2015-09-29</td>\n",
       "      <td>0.0</td>\n",
       "      <td>1.0</td>\n",
       "      <td>0.3400</td>\n",
       "      <td>0.3680</td>\n",
       "      <td>0.3400</td>\n",
       "      <td>0.3590</td>\n",
       "      <td>20290.0</td>\n",
       "      <td>7284.1100</td>\n",
       "      <td>...</td>\n",
       "      <td>-0.545570</td>\n",
       "      <td>0.052786</td>\n",
       "      <td>-0.029730</td>\n",
       "      <td>-0.011019</td>\n",
       "      <td>-0.055263</td>\n",
       "      <td>-0.402662</td>\n",
       "      <td>-0.281713</td>\n",
       "      <td>-0.907235</td>\n",
       "      <td>-0.779755</td>\n",
       "      <td>-0.545570</td>\n",
       "    </tr>\n",
       "    <tr>\n",
       "      <th>15318827</th>\n",
       "      <td>ZAZA</td>\n",
       "      <td>2015-09-30</td>\n",
       "      <td>0.0</td>\n",
       "      <td>1.0</td>\n",
       "      <td>0.3520</td>\n",
       "      <td>0.3599</td>\n",
       "      <td>0.3437</td>\n",
       "      <td>0.3550</td>\n",
       "      <td>7718.0</td>\n",
       "      <td>2739.8900</td>\n",
       "      <td>...</td>\n",
       "      <td>-0.561728</td>\n",
       "      <td>-0.011142</td>\n",
       "      <td>-0.040541</td>\n",
       "      <td>-0.018795</td>\n",
       "      <td>-0.089744</td>\n",
       "      <td>-0.388985</td>\n",
       "      <td>-0.275510</td>\n",
       "      <td>-0.900560</td>\n",
       "      <td>-0.758503</td>\n",
       "      <td>-0.561728</td>\n",
       "    </tr>\n",
       "    <tr>\n",
       "      <th>15318828</th>\n",
       "      <td>ZAZA</td>\n",
       "      <td>2015-10-01</td>\n",
       "      <td>0.0</td>\n",
       "      <td>1.0</td>\n",
       "      <td>0.3699</td>\n",
       "      <td>0.3750</td>\n",
       "      <td>0.3600</td>\n",
       "      <td>0.3649</td>\n",
       "      <td>28085.0</td>\n",
       "      <td>10248.2165</td>\n",
       "      <td>...</td>\n",
       "      <td>-0.615895</td>\n",
       "      <td>0.027887</td>\n",
       "      <td>0.070088</td>\n",
       "      <td>-0.013784</td>\n",
       "      <td>-0.013784</td>\n",
       "      <td>-0.399144</td>\n",
       "      <td>-0.087522</td>\n",
       "      <td>-0.899477</td>\n",
       "      <td>-0.753045</td>\n",
       "      <td>-0.615895</td>\n",
       "    </tr>\n",
       "    <tr>\n",
       "      <th>15318829</th>\n",
       "      <td>ZAZA</td>\n",
       "      <td>2015-10-02</td>\n",
       "      <td>0.0</td>\n",
       "      <td>1.0</td>\n",
       "      <td>0.3690</td>\n",
       "      <td>0.4000</td>\n",
       "      <td>0.3550</td>\n",
       "      <td>0.3886</td>\n",
       "      <td>92641.0</td>\n",
       "      <td>36000.2926</td>\n",
       "      <td>...</td>\n",
       "      <td>-0.536443</td>\n",
       "      <td>0.064949</td>\n",
       "      <td>0.082451</td>\n",
       "      <td>0.050270</td>\n",
       "      <td>0.128339</td>\n",
       "      <td>-0.362951</td>\n",
       "      <td>0.021019</td>\n",
       "      <td>-0.891453</td>\n",
       "      <td>-0.750897</td>\n",
       "      <td>-0.536443</td>\n",
       "    </tr>\n",
       "  </tbody>\n",
       "</table>\n",
       "<p>5 rows × 21 columns</p>\n",
       "</div>"
      ],
      "text/plain": [
       "         ticker       date  ex-dividend  split_ratio    open    high     low  \\\n",
       "15318825   ZAZA 2015-09-28          0.0          1.0  0.3550  0.3700  0.3410   \n",
       "15318826   ZAZA 2015-09-29          0.0          1.0  0.3400  0.3680  0.3400   \n",
       "15318827   ZAZA 2015-09-30          0.0          1.0  0.3520  0.3599  0.3437   \n",
       "15318828   ZAZA 2015-10-01          0.0          1.0  0.3699  0.3750  0.3600   \n",
       "15318829   ZAZA 2015-10-02          0.0          1.0  0.3690  0.4000  0.3550   \n",
       "\n",
       "           close   volume  dollar-volume  ...  ret_{lag}     ret_1     ret_3  \\\n",
       "15318825  0.3410  31134.0     10616.6940  ...  -0.589157 -0.078378 -0.057490   \n",
       "15318826  0.3590  20290.0      7284.1100  ...  -0.545570  0.052786 -0.029730   \n",
       "15318827  0.3550   7718.0      2739.8900  ...  -0.561728 -0.011142 -0.040541   \n",
       "15318828  0.3649  28085.0     10248.2165  ...  -0.615895  0.027887  0.070088   \n",
       "15318829  0.3886  92641.0     36000.2926  ...  -0.536443  0.064949  0.082451   \n",
       "\n",
       "             ret_5    ret_10    ret_42    ret_21   ret_253   ret_126    ret_63  \n",
       "15318825 -0.127877 -0.102632 -0.431667 -0.197269 -0.916626 -0.793333 -0.589157  \n",
       "15318826 -0.011019 -0.055263 -0.402662 -0.281713 -0.907235 -0.779755 -0.545570  \n",
       "15318827 -0.018795 -0.089744 -0.388985 -0.275510 -0.900560 -0.758503 -0.561728  \n",
       "15318828 -0.013784 -0.013784 -0.399144 -0.087522 -0.899477 -0.753045 -0.615895  \n",
       "15318829  0.050270  0.128339 -0.362951  0.021019 -0.891453 -0.750897 -0.536443  \n",
       "\n",
       "[5 rows x 21 columns]"
      ]
     },
     "execution_count": 15,
     "metadata": {},
     "output_type": "execute_result"
    }
   ],
   "source": [
    "lags = {1,3, 5, 10, 21, 42, 63, 126, 253}\n",
    "\n",
    "for lag in lags :\n",
    "    print(f\"ret_{lag}\")\n",
    "    clean_df[f\"ret_{lag}\"] = clean_df['close'].pct_change(lag)\n",
    "    "
   ]
  },
  {
   "cell_type": "markdown",
   "metadata": {},
   "source": [
    "## Bollinger Bands"
   ]
  },
  {
   "cell_type": "code",
   "execution_count": 21,
   "metadata": {},
   "outputs": [
    {
     "name": "stdout",
     "output_type": "stream",
     "text": [
      "<class 'pandas.core.frame.DataFrame'>\n",
      "Int64Index: 1914621 entries, 58940 to 15318829\n",
      "Data columns (total 23 columns):\n",
      " #   Column         Dtype         \n",
      "---  ------         -----         \n",
      " 0   ticker         object        \n",
      " 1   date           datetime64[ns]\n",
      " 2   ex-dividend    float64       \n",
      " 3   split_ratio    float64       \n",
      " 4   open           float64       \n",
      " 5   high           float64       \n",
      " 6   low            float64       \n",
      " 7   close          float64       \n",
      " 8   volume         float64       \n",
      " 9   dollar-volume  float64       \n",
      " 10  daily-rank     float64       \n",
      " 11  ret_1          float64       \n",
      " 12  ret_3          float64       \n",
      " 13  ret_5          float64       \n",
      " 14  ret_10         float64       \n",
      " 15  ret_42         float64       \n",
      " 16  ret_21         float64       \n",
      " 17  ret_253        float64       \n",
      " 18  ret_126        float64       \n",
      " 19  ret_63         float64       \n",
      " 20  bb_upper       float64       \n",
      " 21  bb_middle      float64       \n",
      " 22  bb_lower       float64       \n",
      "dtypes: datetime64[ns](1), float64(21), object(1)\n",
      "memory usage: 350.6+ MB\n"
     ]
    },
    {
     "data": {
      "text/html": [
       "<div>\n",
       "<style scoped>\n",
       "    .dataframe tbody tr th:only-of-type {\n",
       "        vertical-align: middle;\n",
       "    }\n",
       "\n",
       "    .dataframe tbody tr th {\n",
       "        vertical-align: top;\n",
       "    }\n",
       "\n",
       "    .dataframe thead th {\n",
       "        text-align: right;\n",
       "    }\n",
       "</style>\n",
       "<table border=\"1\" class=\"dataframe\">\n",
       "  <thead>\n",
       "    <tr style=\"text-align: right;\">\n",
       "      <th></th>\n",
       "      <th>ticker</th>\n",
       "      <th>date</th>\n",
       "      <th>ex-dividend</th>\n",
       "      <th>split_ratio</th>\n",
       "      <th>open</th>\n",
       "      <th>high</th>\n",
       "      <th>low</th>\n",
       "      <th>close</th>\n",
       "      <th>volume</th>\n",
       "      <th>dollar-volume</th>\n",
       "      <th>...</th>\n",
       "      <th>ret_5</th>\n",
       "      <th>ret_10</th>\n",
       "      <th>ret_42</th>\n",
       "      <th>ret_21</th>\n",
       "      <th>ret_253</th>\n",
       "      <th>ret_126</th>\n",
       "      <th>ret_63</th>\n",
       "      <th>bb_upper</th>\n",
       "      <th>bb_middle</th>\n",
       "      <th>bb_lower</th>\n",
       "    </tr>\n",
       "  </thead>\n",
       "  <tbody>\n",
       "    <tr>\n",
       "      <th>15318825</th>\n",
       "      <td>ZAZA</td>\n",
       "      <td>2015-09-28</td>\n",
       "      <td>0.0</td>\n",
       "      <td>1.0</td>\n",
       "      <td>0.3550</td>\n",
       "      <td>0.3700</td>\n",
       "      <td>0.3410</td>\n",
       "      <td>0.3410</td>\n",
       "      <td>31134.0</td>\n",
       "      <td>10616.6940</td>\n",
       "      <td>...</td>\n",
       "      <td>-0.127877</td>\n",
       "      <td>-0.102632</td>\n",
       "      <td>-0.431667</td>\n",
       "      <td>-0.197269</td>\n",
       "      <td>-0.916626</td>\n",
       "      <td>-0.793333</td>\n",
       "      <td>-0.589157</td>\n",
       "      <td>0.385555</td>\n",
       "      <td>0.364266</td>\n",
       "      <td>0.342977</td>\n",
       "    </tr>\n",
       "    <tr>\n",
       "      <th>15318826</th>\n",
       "      <td>ZAZA</td>\n",
       "      <td>2015-09-29</td>\n",
       "      <td>0.0</td>\n",
       "      <td>1.0</td>\n",
       "      <td>0.3400</td>\n",
       "      <td>0.3680</td>\n",
       "      <td>0.3400</td>\n",
       "      <td>0.3590</td>\n",
       "      <td>20290.0</td>\n",
       "      <td>7284.1100</td>\n",
       "      <td>...</td>\n",
       "      <td>-0.011019</td>\n",
       "      <td>-0.055263</td>\n",
       "      <td>-0.402662</td>\n",
       "      <td>-0.281713</td>\n",
       "      <td>-0.907235</td>\n",
       "      <td>-0.779755</td>\n",
       "      <td>-0.545570</td>\n",
       "      <td>0.382470</td>\n",
       "      <td>0.361217</td>\n",
       "      <td>0.339965</td>\n",
       "    </tr>\n",
       "    <tr>\n",
       "      <th>15318827</th>\n",
       "      <td>ZAZA</td>\n",
       "      <td>2015-09-30</td>\n",
       "      <td>0.0</td>\n",
       "      <td>1.0</td>\n",
       "      <td>0.3520</td>\n",
       "      <td>0.3599</td>\n",
       "      <td>0.3437</td>\n",
       "      <td>0.3550</td>\n",
       "      <td>7718.0</td>\n",
       "      <td>2739.8900</td>\n",
       "      <td>...</td>\n",
       "      <td>-0.018795</td>\n",
       "      <td>-0.089744</td>\n",
       "      <td>-0.388985</td>\n",
       "      <td>-0.275510</td>\n",
       "      <td>-0.900560</td>\n",
       "      <td>-0.758503</td>\n",
       "      <td>-0.561728</td>\n",
       "      <td>0.380129</td>\n",
       "      <td>0.358551</td>\n",
       "      <td>0.336973</td>\n",
       "    </tr>\n",
       "    <tr>\n",
       "      <th>15318828</th>\n",
       "      <td>ZAZA</td>\n",
       "      <td>2015-10-01</td>\n",
       "      <td>0.0</td>\n",
       "      <td>1.0</td>\n",
       "      <td>0.3699</td>\n",
       "      <td>0.3750</td>\n",
       "      <td>0.3600</td>\n",
       "      <td>0.3649</td>\n",
       "      <td>28085.0</td>\n",
       "      <td>10248.2165</td>\n",
       "      <td>...</td>\n",
       "      <td>-0.013784</td>\n",
       "      <td>-0.013784</td>\n",
       "      <td>-0.399144</td>\n",
       "      <td>-0.087522</td>\n",
       "      <td>-0.899477</td>\n",
       "      <td>-0.753045</td>\n",
       "      <td>-0.615895</td>\n",
       "      <td>0.377461</td>\n",
       "      <td>0.357650</td>\n",
       "      <td>0.337839</td>\n",
       "    </tr>\n",
       "    <tr>\n",
       "      <th>15318829</th>\n",
       "      <td>ZAZA</td>\n",
       "      <td>2015-10-02</td>\n",
       "      <td>0.0</td>\n",
       "      <td>1.0</td>\n",
       "      <td>0.3690</td>\n",
       "      <td>0.4000</td>\n",
       "      <td>0.3550</td>\n",
       "      <td>0.3886</td>\n",
       "      <td>92641.0</td>\n",
       "      <td>36000.2926</td>\n",
       "      <td>...</td>\n",
       "      <td>0.050270</td>\n",
       "      <td>0.128339</td>\n",
       "      <td>-0.362951</td>\n",
       "      <td>0.021019</td>\n",
       "      <td>-0.891453</td>\n",
       "      <td>-0.750897</td>\n",
       "      <td>-0.536443</td>\n",
       "      <td>0.392117</td>\n",
       "      <td>0.360946</td>\n",
       "      <td>0.329775</td>\n",
       "    </tr>\n",
       "  </tbody>\n",
       "</table>\n",
       "<p>5 rows × 23 columns</p>\n",
       "</div>"
      ],
      "text/plain": [
       "         ticker       date  ex-dividend  split_ratio    open    high     low  \\\n",
       "15318825   ZAZA 2015-09-28          0.0          1.0  0.3550  0.3700  0.3410   \n",
       "15318826   ZAZA 2015-09-29          0.0          1.0  0.3400  0.3680  0.3400   \n",
       "15318827   ZAZA 2015-09-30          0.0          1.0  0.3520  0.3599  0.3437   \n",
       "15318828   ZAZA 2015-10-01          0.0          1.0  0.3699  0.3750  0.3600   \n",
       "15318829   ZAZA 2015-10-02          0.0          1.0  0.3690  0.4000  0.3550   \n",
       "\n",
       "           close   volume  dollar-volume  ...     ret_5    ret_10    ret_42  \\\n",
       "15318825  0.3410  31134.0     10616.6940  ... -0.127877 -0.102632 -0.431667   \n",
       "15318826  0.3590  20290.0      7284.1100  ... -0.011019 -0.055263 -0.402662   \n",
       "15318827  0.3550   7718.0      2739.8900  ... -0.018795 -0.089744 -0.388985   \n",
       "15318828  0.3649  28085.0     10248.2165  ... -0.013784 -0.013784 -0.399144   \n",
       "15318829  0.3886  92641.0     36000.2926  ...  0.050270  0.128339 -0.362951   \n",
       "\n",
       "            ret_21   ret_253   ret_126    ret_63  bb_upper  bb_middle  \\\n",
       "15318825 -0.197269 -0.916626 -0.793333 -0.589157  0.385555   0.364266   \n",
       "15318826 -0.281713 -0.907235 -0.779755 -0.545570  0.382470   0.361217   \n",
       "15318827 -0.275510 -0.900560 -0.758503 -0.561728  0.380129   0.358551   \n",
       "15318828 -0.087522 -0.899477 -0.753045 -0.615895  0.377461   0.357650   \n",
       "15318829  0.021019 -0.891453 -0.750897 -0.536443  0.392117   0.360946   \n",
       "\n",
       "          bb_lower  \n",
       "15318825  0.342977  \n",
       "15318826  0.339965  \n",
       "15318827  0.336973  \n",
       "15318828  0.337839  \n",
       "15318829  0.329775  \n",
       "\n",
       "[5 rows x 23 columns]"
      ]
     },
     "execution_count": 21,
     "metadata": {},
     "output_type": "execute_result"
    }
   ],
   "source": [
    "from talib import MA_Type\n",
    "\n",
    "clean_df['bb_upper'], clean_df['bb_middle'], clean_df['bb_lower'] = talib.BBANDS(clean_df['close'], matype=MA_Type.T3)\n",
    "\n",
    "\n",
    "clean_df.info()\n",
    "clean_df.tail()"
   ]
  },
  {
   "cell_type": "markdown",
   "metadata": {},
   "source": [
    "## Momentum Indicators"
   ]
  },
  {
   "cell_type": "markdown",
   "metadata": {},
   "source": [
    "TA-Lib offers the following choices - feel free to experiment with as many as you like (but you don't have to..):"
   ]
  },
  {
   "cell_type": "markdown",
   "metadata": {},
   "source": [
    "|Function|             Name|\n",
    "|:---|:---|\n",
    "|PLUS_DM|              Plus Directional Movement|\n",
    "|MINUS_DM|             Minus Directional Movement|\n",
    "|PLUS_DI|              Plus Directional Indicator|\n",
    "|MINUS_DI|             Minus Directional Indicator|\n",
    "|DX|                   Directional Movement Index|\n",
    "|ADX|                  Average Directional Movement Index|\n",
    "|ADXR|                 Average Directional Movement Index Rating|\n",
    "|APO|                  Absolute Price Oscillator|\n",
    "|PPO|                  Percentage Price Oscillator|\n",
    "|AROON|                Aroon|\n",
    "|AROONOSC|             Aroon Oscillator|\n",
    "|BOP|                  Balance Of Power|\n",
    "|CCI|                  Commodity Channel Index|\n",
    "|CMO|                  Chande Momentum Oscillator|\n",
    "|MACD|                 Moving Average Convergence/Divergence|\n",
    "|MACDEXT|              MACD with controllable MA type|\n",
    "|MACDFIX|              Moving Average Convergence/Divergence Fix 12/26|\n",
    "|MFI|                  Money Flow Index|\n",
    "|MOM|                  Momentum|\n",
    "|RSI|                  Relative Strength Index|\n",
    "|STOCH|                Stochastic|\n",
    "|STOCHF|               Stochastic Fast|\n",
    "|STOCHRSI|             Stochastic Relative Strength Index|\n",
    "|TRIX|                 1-day Rate-Of-Change (ROC) of a Triple Smooth EMA|\n",
    "|ULTOSC|               Ultimate Oscillator|\n",
    "|WILLR|                Williams' %R|"
   ]
  },
  {
   "cell_type": "markdown",
   "metadata": {},
   "source": [
    "### Average Directional Movement Index (ADX)"
   ]
  },
  {
   "cell_type": "markdown",
   "metadata": {},
   "source": [
    "The ADX combines of two other indicators, namely the positive and directional indicators (PLUS_DI and MINUS_DI), which in turn build on the positive and directional movement (PLUS_DM and MINUS_DM). For additional details see [Wikipdia](https://en.wikipedia.org/wiki/Average_directional_movement_index) and [Investopedia](https://www.investopedia.com/articles/trading/07/adx-trend-indicator.asp)."
   ]
  },
  {
   "cell_type": "markdown",
   "metadata": {},
   "source": [
    "### Absolute Price Oscillator (APO)"
   ]
  },
  {
   "cell_type": "markdown",
   "metadata": {},
   "source": [
    "The absolute Price Oscillator (APO) is computed as the difference between two exponential moving averages (EMA) of price series, expressed as an absolute value. The EMA windows usually contain 26 and 12 data points, respectively."
   ]
  },
  {
   "cell_type": "markdown",
   "metadata": {},
   "source": [
    "### Percentage Price Oscillator (PPO)"
   ]
  },
  {
   "cell_type": "markdown",
   "metadata": {},
   "source": [
    "The Percentage Price Oscillator (APO) is computed as the difference between two exponential moving averages (EMA) of price series, expressed as a percentage value and thus comparable across assets. The EMA windows usually contain 26 and 12 data points, respectively. "
   ]
  },
  {
   "cell_type": "markdown",
   "metadata": {},
   "source": [
    "### Aroon Oscillator"
   ]
  },
  {
   "cell_type": "markdown",
   "metadata": {},
   "source": [
    "#### Aroon Up/Down Indicator"
   ]
  },
  {
   "cell_type": "markdown",
   "metadata": {},
   "source": [
    "The indicator measures the time between highs and the time between lows over a time period. It computes an AROON_UP and an AROON_DWN indicator as follows:\n",
    "\n",
    "$$\n",
    "\\begin{align*}\n",
    "\\text{AROON_UP}&=\\frac{T-\\text{Periods since T period High}}{T}\\times 100\\\\\n",
    "\\text{AROON_DWN}&=\\frac{T-\\text{Periods since T period Low}}{T}\\times 100\n",
    "\\end{align*}\n",
    "$$"
   ]
  },
  {
   "cell_type": "markdown",
   "metadata": {},
   "source": [
    "#### Aroon Oscillator"
   ]
  },
  {
   "cell_type": "markdown",
   "metadata": {},
   "source": [
    "The Aroon Oscillator is simply the difference between the Aroon Up and Aroon Down indicators."
   ]
  },
  {
   "cell_type": "markdown",
   "metadata": {},
   "source": [
    "### Balance Of Power (BOP)"
   ]
  },
  {
   "cell_type": "markdown",
   "metadata": {},
   "source": [
    "The Balance of Power (BOP) intends to measure the strength of buyers relative to sellers in the market by assessing the ability of each side to drive prices. It is computer as the difference between the close and the open price, divided by the difference between the high and the low price: \n",
    "\n",
    "$$\n",
    "\\text{BOP}_t= \\frac{P_t^\\text{Close}-P_t^\\text{Open}}{P_t^\\text{High}-P_t^\\text{Low}}\n",
    "$$"
   ]
  },
  {
   "cell_type": "markdown",
   "metadata": {},
   "source": [
    "### Commodity Channel Index (CCI)"
   ]
  },
  {
   "cell_type": "markdown",
   "metadata": {},
   "source": [
    "The Commodity Channel Index (CCI) measures the difference between the current *typical* price, computed as the average of current low, high and close price and the historical average price. A positive (negative) CCI indicates that price is above (below) the historic average. When CCI is below zero, the price is below the hsitoric average. It is computed as:\n",
    "\n",
    "$$\n",
    "\\begin{align*}\n",
    "\\bar{P_t}&=\\frac{P_t^H+P_t^L+P_t^C}{3}\\\\\n",
    "\\text{CCI}_t & =\\frac{\\bar{P_t} - \\text{SMA}(T)_t}{0.15\\sum_{t=i}^T |\\bar{P_t}-\\text{SMA}(N)_t|/T}\n",
    "\\end{align*}\n",
    "$$"
   ]
  },
  {
   "cell_type": "markdown",
   "metadata": {},
   "source": [
    "### Moving Average Convergence/Divergence (MACD)"
   ]
  },
  {
   "cell_type": "markdown",
   "metadata": {},
   "source": [
    "Moving Average Convergence Divergence (MACD) is a trend-following (lagging) momentum indicator that shows the relationship between two moving averages of a security’s price. It is calculated by subtracting the 26-period Exponential Moving Average (EMA) from the 12-period EMA.\n",
    "\n",
    "The TA-Lib implementation returns the MACD value and its signal line, which is the 9-day EMA of the MACD. In addition, the MACD-Histogram measures the distance between the indicator and its signal line."
   ]
  },
  {
   "cell_type": "markdown",
   "metadata": {},
   "source": [
    "### Chande Momentum Oscillator (CMO)"
   ]
  },
  {
   "cell_type": "markdown",
   "metadata": {},
   "source": [
    "The Chande Momentum Oscillator (CMO) intends to measure momentum on both up and down days. It is calculated as the difference between the sum of gains and losses over at time period T, divided by the sum of all price movement over the same period. It oscillates between +100 and -100."
   ]
  },
  {
   "cell_type": "markdown",
   "metadata": {},
   "source": [
    "### Money Flow Index"
   ]
  },
  {
   "cell_type": "markdown",
   "metadata": {},
   "source": [
    "The Money Flow Index (MFI) incorporates price and volume information to identify overbought or oversold conditions.  The indicator is typically calculated using 14 periods of data. An MFI reading above 80 is considered overbought and an MFI reading below 20 is considered oversold."
   ]
  },
  {
   "cell_type": "markdown",
   "metadata": {},
   "source": [
    "### Relative Strength Index"
   ]
  },
  {
   "cell_type": "markdown",
   "metadata": {},
   "source": [
    "RSI compares the magnitude of recent price changes across stocks to identify stocks as overbought or oversold. A high RSI (usually above 70) indicates overbought and a low RSI (typically below 30) indicates oversold. It first computes the average price change for a given number (often 14) of prior trading days with rising and falling prices, respectively as $\\text{up}_t$ and $\\text{down}_t$. Then, the RSI is computed as:\n",
    "$$\n",
    "\\text{RSI}_t=100-\\frac{100}{1+\\frac{\\text{up}_t}{\\text{down}_t}}\n",
    "$$\n",
    "\n"
   ]
  },
  {
   "cell_type": "markdown",
   "metadata": {},
   "source": [
    "#### Stochastic RSI (STOCHRSI)"
   ]
  },
  {
   "cell_type": "markdown",
   "metadata": {},
   "source": [
    "The Stochastic Relative Strength Index (STOCHRSI) is based on the RSI just described and intends to identify crossovers as well as overbought and oversold conditions. It compares the distance of the current RSI to the lowest RSI over a given time period T to the maximum range of values the RSI has assumed for this period. It is computed as follows:\n",
    "\n",
    "$$\n",
    "\\text{STOCHRSI}_t= \\frac{\\text{RSI}_t-\\text{RSI}_t^L(T)}{\\text{RSI}_t^H(T)-\\text{RSI}_t^L(T)}\n",
    "$$\n",
    "\n",
    "The TA-Lib implementation offers more flexibility than the original \"Unsmoothed stochastic RSI\" version by Chande and Kroll (1993). To calculate the original indicator, keep the `timeperiod` and `fastk_period` equal. \n",
    "\n",
    "The return value `fastk` is the unsmoothed RSI. The `fastd_period` is used to compute a smoothed STOCHRSI, which  is returned as `fastd`. If you do not care about STOCHRSI smoothing, just set `fastd_period` to 1 and ignore the `fastd` output.\n",
    "\n",
    "Reference: \"Stochastic RSI and Dynamic Momentum Index\" by Tushar Chande and Stanley Kroll Stock&Commodities V.11:5 (189-199)\n"
   ]
  },
  {
   "cell_type": "markdown",
   "metadata": {},
   "source": [
    "### Stochastic (STOCH)"
   ]
  },
  {
   "cell_type": "markdown",
   "metadata": {},
   "source": [
    "A stochastic oscillator is a momentum indicator comparing a particular closing price of a security to a range of its prices over a certain period of time. Stochastic oscillators are based on the idea that closing prices should confirm the trend."
   ]
  },
  {
   "cell_type": "markdown",
   "metadata": {},
   "source": [
    "For stochastic (STOCH), there are four different lines: `FASTK`, `FASTD`, `SLOWK` and `SLOWD`. The `D` is the signal line usually drawn over its corresponding `K` function.\n",
    "\n",
    "$$\n",
    "\\begin{align*}\n",
    "& K^\\text{Fast}(T_K) & = &\\frac{P_t-P_{T_K}^L}{P_{T_K}^H-P_{T_K}^L}* 100 \\\\\n",
    "& D^\\text{Fast}(T_{\\text{FastD}}) & = & \\text{MA}(T_{\\text{FastD}})[K^\\text{Fast}]\\\\\n",
    "& K^\\text{Slow}(T_{\\text{SlowK}}) & = &\\text{MA}(T_{\\text{SlowK}})[K^\\text{Fast}]\\\\\n",
    "& D^\\text{Slow}(T_{\\text{SlowD}}) & = &\\text{MA}(T_{\\text{SlowD}})[K^\\text{Slow}]\n",
    "\\end{align*}\n",
    "$$\n",
    "  \n",
    "\n",
    "The $P_{T_K}^L$, $P_{T_K}^H$, and $P_{T_K}^L$ are the extreme values among the last $T_K$ period.\n",
    " $K^\\text{Slow}$ and $D^\\text{Fast}$ are equivalent when using the same period. "
   ]
  },
  {
   "cell_type": "markdown",
   "metadata": {},
   "source": [
    "### Ultimate Oscillator (ULTOSC)"
   ]
  },
  {
   "cell_type": "markdown",
   "metadata": {},
   "source": [
    "The Ultimate Oscillator (ULTOSC), developed by Larry Williams, measures the average difference of the current close to the previous lowest price over three time frames (default: 7, 14, and 28) to avoid overreacting to short-term price changes and incorporat short, medium, and long-term market trends. It first computes the buying pressure, $\\text{BP}_t$, then sums it over the three periods $T_1, T_2, T_3$, normalized by the True Range ($\\text{TR}_t$.\n",
    "$$\n",
    "\\begin{align*}\n",
    "\\text{BP}_t & = P_t^\\text{Close}-\\min(P_{t-1}^\\text{Close}, P_t^\\text{Low})\\\\ \n",
    "\\text{TR}_t & = \\max(P_{t-1}^\\text{Close}, P_t^\\text{High})-\\min(P_{t-1}^\\text{Close}, P_t^\\text{Low})\n",
    "\\end{align*}\n",
    "$$\n",
    "\n",
    "ULTOSC is then computed as a weighted average over the three periods as follows:\n",
    "$$\n",
    "\\begin{align*}\n",
    "\\text{Avg}_t(T) & = \\frac{\\sum_{i=0}^{T-1} \\text{BP}_{t-i}}{\\sum_{i=0}^{T-1} \\text{TR}_{t-i}}\\\\\n",
    "\\text{ULTOSC}_t & = 100*\\frac{4\\text{Avg}_t(7) + 2\\text{Avg}_t(14) + \\text{Avg}_t(28)}{4+2+1}\n",
    "\\end{align*}\n",
    "$$"
   ]
  },
  {
   "cell_type": "markdown",
   "metadata": {},
   "source": [
    "### Williams' %R (WILLR)"
   ]
  },
  {
   "cell_type": "markdown",
   "metadata": {},
   "source": [
    "Williams %R, also known as the Williams Percent Range, is a momentum indicator that moves between 0 and -100 and measures overbought and oversold levels to identify entry and exit points. It is similar to the Stochastic oscillator and compares the current closing price $P_t^\\text{Close}$ to the range of highest ($P_T^\\text{High}$) and lowest ($P_T^\\text{Low}$) prices over the last T periods (typically 14). The indicators is computed as:\n",
    "\n",
    "$$\n",
    "\\text{WILLR}_t = \\frac{P_T^\\text{High}-P_t^\\text{Close}}{P_T^\\text{High}-P_T^\\text{Low}}\n",
    "$$\n"
   ]
  },
  {
   "cell_type": "code",
   "execution_count": 23,
   "metadata": {},
   "outputs": [],
   "source": [
    "clean_df['RSI'] = talib.RSI(clean_df['close'])"
   ]
  },
  {
   "cell_type": "code",
   "execution_count": 24,
   "metadata": {},
   "outputs": [],
   "source": [
    "clean_df['MFI'] = talib.MFI(clean_df['high'],clean_df['low'],clean_df['close'],clean_df['volume'])"
   ]
  },
  {
   "cell_type": "code",
   "execution_count": 27,
   "metadata": {},
   "outputs": [],
   "source": [
    "clean_df['macd'], clean_df['macdsignal'], clean_df['macdhist'] = talib.MACD(clean_df['close'])"
   ]
  },
  {
   "cell_type": "code",
   "execution_count": 28,
   "metadata": {},
   "outputs": [
    {
     "name": "stdout",
     "output_type": "stream",
     "text": [
      "<class 'pandas.core.frame.DataFrame'>\n",
      "Int64Index: 1914621 entries, 58940 to 15318829\n",
      "Data columns (total 28 columns):\n",
      " #   Column         Dtype         \n",
      "---  ------         -----         \n",
      " 0   ticker         object        \n",
      " 1   date           datetime64[ns]\n",
      " 2   ex-dividend    float64       \n",
      " 3   split_ratio    float64       \n",
      " 4   open           float64       \n",
      " 5   high           float64       \n",
      " 6   low            float64       \n",
      " 7   close          float64       \n",
      " 8   volume         float64       \n",
      " 9   dollar-volume  float64       \n",
      " 10  daily-rank     float64       \n",
      " 11  ret_1          float64       \n",
      " 12  ret_3          float64       \n",
      " 13  ret_5          float64       \n",
      " 14  ret_10         float64       \n",
      " 15  ret_42         float64       \n",
      " 16  ret_21         float64       \n",
      " 17  ret_253        float64       \n",
      " 18  ret_126        float64       \n",
      " 19  ret_63         float64       \n",
      " 20  bb_upper       float64       \n",
      " 21  bb_middle      float64       \n",
      " 22  bb_lower       float64       \n",
      " 23  RSI            float64       \n",
      " 24  MFI            float64       \n",
      " 25  macd           float64       \n",
      " 26  macdsignal     float64       \n",
      " 27  macdhist       float64       \n",
      "dtypes: datetime64[ns](1), float64(26), object(1)\n",
      "memory usage: 423.6+ MB\n"
     ]
    }
   ],
   "source": [
    "clean_df.info()"
   ]
  },
  {
   "cell_type": "markdown",
   "metadata": {},
   "source": [
    "## Volume Indicators"
   ]
  },
  {
   "cell_type": "markdown",
   "metadata": {},
   "source": [
    "|Function|             Name|\n",
    "|:---|:---|\n",
    "|AD|                   Chaikin A/D Line|\n",
    "|ADOSC|                Chaikin A/D Oscillator|\n",
    "|OBV|                  On Balance Volume|"
   ]
  },
  {
   "cell_type": "markdown",
   "metadata": {},
   "source": [
    "### Chaikin A/D Line"
   ]
  },
  {
   "cell_type": "markdown",
   "metadata": {},
   "source": [
    "The Chaikin Advance/Decline or Accumulation/Distribution Line (AD) is a volume-based indicator designed to measure the cumulative flow of money into and out of an asset. The indicator assumes that the degree of buying or selling pressure can be determined by the location of the close, relative to the high and low for the period. There is buying (sellng) pressure when a stock closes in the upper (lower) half of a period's range. The intention is to signal a change in direction when the indicator diverges from the security price.\n",
    "\n",
    "The Accumulation/Distribution Line is a running total of each period's Money Flow Volume. It is calculated as follows:\n",
    "\n",
    "1. The Money Flow Multiplier (MFI) is the relationship of the close to the high-low range:\n",
    "2. The MFI is multiplied by the period's volume $V_t$ to come up with a Money Flow Volume (MFV). \n",
    "3. A running total of the Money Flow Volume forms the Accumulation Distribution Line:\n",
    "$$\n",
    "\\begin{align*}\n",
    "&\\text{MFI}_t&=\\frac{P_t^\\text{Close}-P_t^\\text{Low}}{P_t^\\text{High}-P_t^\\text{Low}}\\\\\n",
    "&\\text{MFV}_t&=\\text{MFI}_t \\times V_t\\\\\n",
    "&\\text{AD}_t&=\\text{AD}_{t-1}+\\text{MFV}_t\n",
    "\\end{align*}\n",
    "$$"
   ]
  },
  {
   "cell_type": "markdown",
   "metadata": {},
   "source": [
    "### Chaikin A/D Oscillator (ADOSC)"
   ]
  },
  {
   "cell_type": "markdown",
   "metadata": {},
   "source": [
    "The Chaikin A/D Oscillator (ADOSC) is the Moving Average Convergence Divergence indicator (MACD) applied to the Chaikin A/D Line. The Chaikin Oscillator intends to predict changes in the Accumulation/Distribution Line.\n",
    "\n",
    "It is computed as the difference between the 3-day exponential moving average and the 10-day exponential moving average of the Accumulation/Distribution Line."
   ]
  },
  {
   "cell_type": "markdown",
   "metadata": {},
   "source": [
    "### On Balance Volume (OBV)"
   ]
  },
  {
   "cell_type": "markdown",
   "metadata": {},
   "source": [
    "The On Balance Volume indicator (OBV) is a cumulative momentum indicator that relates volume to price change. It assumes that OBV changes precede price changes because smart money can be seen flowing into the security by a rising OBV. When the public then moves into the security, both the security and OBV will rise.\n",
    "\n",
    "The current OBV is computed by adding (subtracting) the current volume to the last OBV if the security closes higher (lower) than the previous close.\n",
    "\n",
    "$$\n",
    "\\text{OBV}_t = \n",
    "\\begin{cases}\n",
    "\\text{OBV}_{t-1}+V_t & \\text{if }P_t>P_{t-1}\\\\\n",
    "\\text{OBV}_{t-1}-V_t & \\text{if }P_t<P_{t-1}\\\\\n",
    "\\text{OBV}_{t-1} & \\text{otherwise}\n",
    "\\end{cases}\n",
    "$$"
   ]
  },
  {
   "cell_type": "code",
   "execution_count": 29,
   "metadata": {},
   "outputs": [],
   "source": [
    "clean_df['OBV'] = talib.OBV(clean_df['close'], clean_df['volume'])"
   ]
  },
  {
   "cell_type": "markdown",
   "metadata": {},
   "source": [
    "## Volatility Indicators"
   ]
  },
  {
   "cell_type": "markdown",
   "metadata": {},
   "source": [
    "|Function|             Name|\n",
    "|:---|:---|\n",
    "|TRANGE|               True Range|\n",
    "|ATR|                  Average True Range|\n",
    "|NATR|                 Normalized Average True Range|"
   ]
  },
  {
   "cell_type": "markdown",
   "metadata": {},
   "source": [
    "### ATR"
   ]
  },
  {
   "cell_type": "markdown",
   "metadata": {},
   "source": [
    "The Average True Range indicator (ATR) shows volatility of the market. It was introduced by Welles Wilder (1978)  and has been used as a component of numerous other indicators since. It aims to anticipate changes in trend such that the higher its value, the higher the probability of a trend change; the lower the indicator’s value, the weaker the current trend.\n",
    "\n",
    "It is computed as the simple moving average for a period T of the True Range (TRANGE), which measures volatility as the absolute value of the largest recent trading range:\n",
    "$$\n",
    "\\text{TRANGE}_t = \\max\\left[P_t^\\text{High} - P_t^\\text{low}, \\left| P_t^\\text{High} - P_{t-1}^\\text{Close}\\right|, \\left| P_t^\\text{low} - P_{t-1}^\\text{Close}\\right|\\right]\n",
    "$$"
   ]
  },
  {
   "cell_type": "markdown",
   "metadata": {},
   "source": [
    "### NATR"
   ]
  },
  {
   "cell_type": "code",
   "execution_count": 30,
   "metadata": {},
   "outputs": [],
   "source": [
    "clean_df['NATR'] = talib.NATR(clean_df['high'], clean_df['low'], clean_df['close'])"
   ]
  },
  {
   "cell_type": "markdown",
   "metadata": {},
   "source": [
    "The Normalized Average True Range (NATR) is a normalized version of the ATR computed as follows:\n",
    "\n",
    "$$\n",
    "\\text{NATR}_t = \\frac{\\text{ATR}_t(T)}{P_t^\\text{Close}} * 100\n",
    "$$\n",
    "\n",
    "Normalization make the ATR function more relevant in the folllowing scenarios:\n",
    "- Long term analysis where the price changes drastically.\n",
    "- Cross-market or cross-security ATR comparison."
   ]
  },
  {
   "cell_type": "markdown",
   "metadata": {},
   "source": [
    "## Rolling Factor Betas"
   ]
  },
  {
   "cell_type": "code",
   "execution_count": 31,
   "metadata": {},
   "outputs": [
    {
     "data": {
      "text/html": [
       "<div>\n",
       "<style scoped>\n",
       "    .dataframe tbody tr th:only-of-type {\n",
       "        vertical-align: middle;\n",
       "    }\n",
       "\n",
       "    .dataframe tbody tr th {\n",
       "        vertical-align: top;\n",
       "    }\n",
       "\n",
       "    .dataframe thead th {\n",
       "        text-align: right;\n",
       "    }\n",
       "</style>\n",
       "<table border=\"1\" class=\"dataframe\">\n",
       "  <thead>\n",
       "    <tr style=\"text-align: right;\">\n",
       "      <th></th>\n",
       "      <th>Mkt-RF</th>\n",
       "      <th>SMB</th>\n",
       "      <th>HML</th>\n",
       "      <th>RMW</th>\n",
       "      <th>CMA</th>\n",
       "    </tr>\n",
       "    <tr>\n",
       "      <th>Date</th>\n",
       "      <th></th>\n",
       "      <th></th>\n",
       "      <th></th>\n",
       "      <th></th>\n",
       "      <th></th>\n",
       "    </tr>\n",
       "  </thead>\n",
       "  <tbody>\n",
       "    <tr>\n",
       "      <th>2000-01</th>\n",
       "      <td>-4.74</td>\n",
       "      <td>4.45</td>\n",
       "      <td>-1.89</td>\n",
       "      <td>-6.29</td>\n",
       "      <td>4.74</td>\n",
       "    </tr>\n",
       "    <tr>\n",
       "      <th>2000-02</th>\n",
       "      <td>2.45</td>\n",
       "      <td>18.38</td>\n",
       "      <td>-9.81</td>\n",
       "      <td>-18.76</td>\n",
       "      <td>-0.35</td>\n",
       "    </tr>\n",
       "    <tr>\n",
       "      <th>2000-03</th>\n",
       "      <td>5.20</td>\n",
       "      <td>-15.39</td>\n",
       "      <td>8.23</td>\n",
       "      <td>11.82</td>\n",
       "      <td>-1.61</td>\n",
       "    </tr>\n",
       "    <tr>\n",
       "      <th>2000-04</th>\n",
       "      <td>-6.40</td>\n",
       "      <td>-4.96</td>\n",
       "      <td>7.25</td>\n",
       "      <td>7.67</td>\n",
       "      <td>5.62</td>\n",
       "    </tr>\n",
       "    <tr>\n",
       "      <th>2000-05</th>\n",
       "      <td>-4.42</td>\n",
       "      <td>-3.87</td>\n",
       "      <td>4.83</td>\n",
       "      <td>4.18</td>\n",
       "      <td>1.32</td>\n",
       "    </tr>\n",
       "  </tbody>\n",
       "</table>\n",
       "</div>"
      ],
      "text/plain": [
       "         Mkt-RF    SMB   HML    RMW   CMA\n",
       "Date                                     \n",
       "2000-01   -4.74   4.45 -1.89  -6.29  4.74\n",
       "2000-02    2.45  18.38 -9.81 -18.76 -0.35\n",
       "2000-03    5.20 -15.39  8.23  11.82 -1.61\n",
       "2000-04   -6.40  -4.96  7.25   7.67  5.62\n",
       "2000-05   -4.42  -3.87  4.83   4.18  1.32"
      ]
     },
     "execution_count": 31,
     "metadata": {},
     "output_type": "execute_result"
    }
   ],
   "source": [
    "factors = ['Mkt-RF', 'SMB', 'HML', 'RMW', 'CMA']\n",
    "factor_data = web.DataReader('F-F_Research_Data_5_Factors_2x3', 'famafrench', start='2000')[0].drop('RF', axis=1)\n",
    "factor_data.head()"
   ]
  },
  {
   "cell_type": "code",
   "execution_count": 33,
   "metadata": {},
   "outputs": [
    {
     "name": "stdout",
     "output_type": "stream",
     "text": [
      "<class 'pandas.core.frame.DataFrame'>\n",
      "MultiIndex: 1914621 entries, ('ABCB', Timestamp('2000-01-05 00:00:00')) to ('ZAZA', Timestamp('2015-10-02 00:00:00'))\n",
      "Data columns (total 28 columns):\n",
      " #   Column         Dtype  \n",
      "---  ------         -----  \n",
      " 0   ex-dividend    float64\n",
      " 1   split_ratio    float64\n",
      " 2   open           float64\n",
      " 3   high           float64\n",
      " 4   low            float64\n",
      " 5   close          float64\n",
      " 6   volume         float64\n",
      " 7   dollar-volume  float64\n",
      " 8   daily-rank     float64\n",
      " 9   ret_1          float64\n",
      " 10  ret_3          float64\n",
      " 11  ret_5          float64\n",
      " 12  ret_10         float64\n",
      " 13  ret_42         float64\n",
      " 14  ret_21         float64\n",
      " 15  ret_253        float64\n",
      " 16  ret_126        float64\n",
      " 17  ret_63         float64\n",
      " 18  bb_upper       float64\n",
      " 19  bb_middle      float64\n",
      " 20  bb_lower       float64\n",
      " 21  RSI            float64\n",
      " 22  MFI            float64\n",
      " 23  macd           float64\n",
      " 24  macdsignal     float64\n",
      " 25  macdhist       float64\n",
      " 26  OBV            float64\n",
      " 27  NATR           float64\n",
      "dtypes: float64(28)\n",
      "memory usage: 416.5+ MB\n"
     ]
    }
   ],
   "source": [
    "clean_df.set_index(keys=['ticker', 'date'], inplace=True)"
   ]
  },
  {
   "cell_type": "code",
   "execution_count": 35,
   "metadata": {},
   "outputs": [
    {
     "name": "stdout",
     "output_type": "stream",
     "text": [
      "<class 'pandas.core.frame.DataFrame'>\n",
      "DatetimeIndex: 263 entries, 2000-01-31 to 2021-11-30\n",
      "Freq: M\n",
      "Data columns (total 5 columns):\n",
      " #   Column  Non-Null Count  Dtype  \n",
      "---  ------  --------------  -----  \n",
      " 0   Mkt-RF  263 non-null    float64\n",
      " 1   SMB     263 non-null    float64\n",
      " 2   HML     263 non-null    float64\n",
      " 3   RMW     263 non-null    float64\n",
      " 4   CMA     263 non-null    float64\n",
      "dtypes: float64(5)\n",
      "memory usage: 12.3 KB\n"
     ]
    }
   ],
   "source": [
    "factor_data.index = factor_data.index.to_timestamp()\n",
    "factor_data = factor_data.resample('M').last().div(100)\n",
    "factor_data.index.name = 'date'\n",
    "factor_data.info()"
   ]
  },
  {
   "cell_type": "code",
   "execution_count": 36,
   "metadata": {},
   "outputs": [
    {
     "name": "stdout",
     "output_type": "stream",
     "text": [
      "<class 'pandas.core.frame.DataFrame'>\n",
      "MultiIndex: 64389 entries, ('ABCB', Timestamp('2000-01-31 00:00:00', freq='M')) to ('ZAZA', Timestamp('2015-09-30 00:00:00', freq='M'))\n",
      "Data columns (total 6 columns):\n",
      " #   Column  Non-Null Count  Dtype  \n",
      "---  ------  --------------  -----  \n",
      " 0   Mkt-RF  64389 non-null  float64\n",
      " 1   SMB     64389 non-null  float64\n",
      " 2   HML     64389 non-null  float64\n",
      " 3   RMW     64389 non-null  float64\n",
      " 4   CMA     64389 non-null  float64\n",
      " 5   ret_21  64388 non-null  float64\n",
      "dtypes: float64(6)\n",
      "memory usage: 3.2+ MB\n"
     ]
    },
    {
     "data": {
      "text/html": [
       "<div>\n",
       "<style scoped>\n",
       "    .dataframe tbody tr th:only-of-type {\n",
       "        vertical-align: middle;\n",
       "    }\n",
       "\n",
       "    .dataframe tbody tr th {\n",
       "        vertical-align: top;\n",
       "    }\n",
       "\n",
       "    .dataframe thead th {\n",
       "        text-align: right;\n",
       "    }\n",
       "</style>\n",
       "<table border=\"1\" class=\"dataframe\">\n",
       "  <thead>\n",
       "    <tr style=\"text-align: right;\">\n",
       "      <th></th>\n",
       "      <th></th>\n",
       "      <th>Mkt-RF</th>\n",
       "      <th>SMB</th>\n",
       "      <th>HML</th>\n",
       "      <th>RMW</th>\n",
       "      <th>CMA</th>\n",
       "      <th>ret_21</th>\n",
       "    </tr>\n",
       "    <tr>\n",
       "      <th>ticker</th>\n",
       "      <th>date</th>\n",
       "      <th></th>\n",
       "      <th></th>\n",
       "      <th></th>\n",
       "      <th></th>\n",
       "      <th></th>\n",
       "      <th></th>\n",
       "    </tr>\n",
       "  </thead>\n",
       "  <tbody>\n",
       "    <tr>\n",
       "      <th rowspan=\"5\" valign=\"top\">ABCB</th>\n",
       "      <th>2000-01-31</th>\n",
       "      <td>-0.0474</td>\n",
       "      <td>0.0445</td>\n",
       "      <td>-0.0189</td>\n",
       "      <td>-0.0629</td>\n",
       "      <td>0.0474</td>\n",
       "      <td>NaN</td>\n",
       "    </tr>\n",
       "    <tr>\n",
       "      <th>2000-02-29</th>\n",
       "      <td>0.0245</td>\n",
       "      <td>0.1838</td>\n",
       "      <td>-0.0981</td>\n",
       "      <td>-0.1876</td>\n",
       "      <td>-0.0035</td>\n",
       "      <td>-0.012500</td>\n",
       "    </tr>\n",
       "    <tr>\n",
       "      <th>2000-03-31</th>\n",
       "      <td>0.0520</td>\n",
       "      <td>-0.1539</td>\n",
       "      <td>0.0823</td>\n",
       "      <td>0.1182</td>\n",
       "      <td>-0.0161</td>\n",
       "      <td>0.028922</td>\n",
       "    </tr>\n",
       "    <tr>\n",
       "      <th>2000-05-31</th>\n",
       "      <td>-0.0442</td>\n",
       "      <td>-0.0387</td>\n",
       "      <td>0.0483</td>\n",
       "      <td>0.0418</td>\n",
       "      <td>0.0132</td>\n",
       "      <td>0.000000</td>\n",
       "    </tr>\n",
       "    <tr>\n",
       "      <th>2000-06-30</th>\n",
       "      <td>0.0464</td>\n",
       "      <td>0.0987</td>\n",
       "      <td>-0.0841</td>\n",
       "      <td>-0.0826</td>\n",
       "      <td>-0.0291</td>\n",
       "      <td>-0.013397</td>\n",
       "    </tr>\n",
       "  </tbody>\n",
       "</table>\n",
       "</div>"
      ],
      "text/plain": [
       "                   Mkt-RF     SMB     HML     RMW     CMA    ret_21\n",
       "ticker date                                                        \n",
       "ABCB   2000-01-31 -0.0474  0.0445 -0.0189 -0.0629  0.0474       NaN\n",
       "       2000-02-29  0.0245  0.1838 -0.0981 -0.1876 -0.0035 -0.012500\n",
       "       2000-03-31  0.0520 -0.1539  0.0823  0.1182 -0.0161  0.028922\n",
       "       2000-05-31 -0.0442 -0.0387  0.0483  0.0418  0.0132  0.000000\n",
       "       2000-06-30  0.0464  0.0987 -0.0841 -0.0826 -0.0291 -0.013397"
      ]
     },
     "execution_count": 36,
     "metadata": {},
     "output_type": "execute_result"
    }
   ],
   "source": [
    "factor_data = factor_data.join(clean_df['ret_21']).sort_index()\n",
    "factor_data.info()\n",
    "factor_data.head()"
   ]
  },
  {
   "cell_type": "code",
   "execution_count": 41,
   "metadata": {},
   "outputs": [],
   "source": [
    "betas12 = (factor_data.groupby(level='ticker',\n",
    "                             group_keys=False)\n",
    "         .apply(lambda x: RollingOLS(endog=x.ret_21,\n",
    "                                     exog=sm.add_constant(x.drop('ret_21', axis=1)),\n",
    "                                     window=min(12, x.shape[0]-1))\n",
    "                .fit(params_only=True)\n",
    "                .params\n",
    "                .drop('const', axis=1)))"
   ]
  },
  {
   "cell_type": "code",
   "execution_count": 45,
   "metadata": {},
   "outputs": [],
   "source": [
    "betas6 = (factor_data.groupby(level='ticker',\n",
    "                             group_keys=False)\n",
    "         .apply(lambda x: RollingOLS(endog=x.ret_21,\n",
    "                                     exog=sm.add_constant(x.drop('ret_21', axis=1)),\n",
    "                                     window=min(6, x.shape[0]-1))\n",
    "                .fit(params_only=True)\n",
    "                .params\n",
    "                .drop('const', axis=1)))"
   ]
  },
  {
   "cell_type": "code",
   "execution_count": 47,
   "metadata": {},
   "outputs": [
    {
     "data": {
      "text/html": [
       "<div>\n",
       "<style scoped>\n",
       "    .dataframe tbody tr th:only-of-type {\n",
       "        vertical-align: middle;\n",
       "    }\n",
       "\n",
       "    .dataframe tbody tr th {\n",
       "        vertical-align: top;\n",
       "    }\n",
       "\n",
       "    .dataframe thead th {\n",
       "        text-align: right;\n",
       "    }\n",
       "</style>\n",
       "<table border=\"1\" class=\"dataframe\">\n",
       "  <thead>\n",
       "    <tr style=\"text-align: right;\">\n",
       "      <th></th>\n",
       "      <th></th>\n",
       "      <th>ex-dividend</th>\n",
       "      <th>split_ratio</th>\n",
       "      <th>open</th>\n",
       "      <th>high</th>\n",
       "      <th>low</th>\n",
       "      <th>close</th>\n",
       "      <th>volume</th>\n",
       "      <th>dollar-volume</th>\n",
       "      <th>daily-rank</th>\n",
       "      <th>ret_1</th>\n",
       "      <th>...</th>\n",
       "      <th>bb_middle</th>\n",
       "      <th>bb_lower</th>\n",
       "      <th>RSI</th>\n",
       "      <th>MFI</th>\n",
       "      <th>macd</th>\n",
       "      <th>macdsignal</th>\n",
       "      <th>macdhist</th>\n",
       "      <th>OBV</th>\n",
       "      <th>NATR</th>\n",
       "      <th>fwd_1d</th>\n",
       "    </tr>\n",
       "    <tr>\n",
       "      <th>ticker</th>\n",
       "      <th>date</th>\n",
       "      <th></th>\n",
       "      <th></th>\n",
       "      <th></th>\n",
       "      <th></th>\n",
       "      <th></th>\n",
       "      <th></th>\n",
       "      <th></th>\n",
       "      <th></th>\n",
       "      <th></th>\n",
       "      <th></th>\n",
       "      <th></th>\n",
       "      <th></th>\n",
       "      <th></th>\n",
       "      <th></th>\n",
       "      <th></th>\n",
       "      <th></th>\n",
       "      <th></th>\n",
       "      <th></th>\n",
       "      <th></th>\n",
       "      <th></th>\n",
       "      <th></th>\n",
       "    </tr>\n",
       "  </thead>\n",
       "  <tbody>\n",
       "    <tr>\n",
       "      <th rowspan=\"5\" valign=\"top\">ABCB</th>\n",
       "      <th>2000-01-05</th>\n",
       "      <td>0.0</td>\n",
       "      <td>1.0</td>\n",
       "      <td>6.066039</td>\n",
       "      <td>6.066039</td>\n",
       "      <td>6.066039</td>\n",
       "      <td>6.066039</td>\n",
       "      <td>8169.6</td>\n",
       "      <td>49557.110415</td>\n",
       "      <td>307.0</td>\n",
       "      <td>NaN</td>\n",
       "      <td>...</td>\n",
       "      <td>NaN</td>\n",
       "      <td>NaN</td>\n",
       "      <td>NaN</td>\n",
       "      <td>NaN</td>\n",
       "      <td>NaN</td>\n",
       "      <td>NaN</td>\n",
       "      <td>NaN</td>\n",
       "      <td>8169.6</td>\n",
       "      <td>NaN</td>\n",
       "      <td>-0.012230</td>\n",
       "    </tr>\n",
       "    <tr>\n",
       "      <th>2000-01-06</th>\n",
       "      <td>0.0</td>\n",
       "      <td>1.0</td>\n",
       "      <td>6.175805</td>\n",
       "      <td>6.354898</td>\n",
       "      <td>6.141142</td>\n",
       "      <td>6.141142</td>\n",
       "      <td>1459.2</td>\n",
       "      <td>8961.154577</td>\n",
       "      <td>130.0</td>\n",
       "      <td>0.012381</td>\n",
       "      <td>...</td>\n",
       "      <td>NaN</td>\n",
       "      <td>NaN</td>\n",
       "      <td>NaN</td>\n",
       "      <td>NaN</td>\n",
       "      <td>NaN</td>\n",
       "      <td>NaN</td>\n",
       "      <td>NaN</td>\n",
       "      <td>9628.8</td>\n",
       "      <td>NaN</td>\n",
       "      <td>-0.011163</td>\n",
       "    </tr>\n",
       "    <tr>\n",
       "      <th>2000-01-07</th>\n",
       "      <td>0.0</td>\n",
       "      <td>1.0</td>\n",
       "      <td>6.285572</td>\n",
       "      <td>6.354898</td>\n",
       "      <td>6.141142</td>\n",
       "      <td>6.210468</td>\n",
       "      <td>12351.6</td>\n",
       "      <td>76709.219940</td>\n",
       "      <td>359.0</td>\n",
       "      <td>0.011289</td>\n",
       "      <td>...</td>\n",
       "      <td>NaN</td>\n",
       "      <td>NaN</td>\n",
       "      <td>NaN</td>\n",
       "      <td>NaN</td>\n",
       "      <td>NaN</td>\n",
       "      <td>NaN</td>\n",
       "      <td>NaN</td>\n",
       "      <td>21980.4</td>\n",
       "      <td>NaN</td>\n",
       "      <td>0.023810</td>\n",
       "    </tr>\n",
       "    <tr>\n",
       "      <th>2000-01-10</th>\n",
       "      <td>0.0</td>\n",
       "      <td>1.0</td>\n",
       "      <td>6.354898</td>\n",
       "      <td>6.354898</td>\n",
       "      <td>6.066039</td>\n",
       "      <td>6.066039</td>\n",
       "      <td>1848.0</td>\n",
       "      <td>11210.039665</td>\n",
       "      <td>148.0</td>\n",
       "      <td>-0.023256</td>\n",
       "      <td>...</td>\n",
       "      <td>NaN</td>\n",
       "      <td>NaN</td>\n",
       "      <td>NaN</td>\n",
       "      <td>NaN</td>\n",
       "      <td>NaN</td>\n",
       "      <td>NaN</td>\n",
       "      <td>NaN</td>\n",
       "      <td>20132.4</td>\n",
       "      <td>NaN</td>\n",
       "      <td>-0.056604</td>\n",
       "    </tr>\n",
       "    <tr>\n",
       "      <th>2000-01-11</th>\n",
       "      <td>0.0</td>\n",
       "      <td>1.0</td>\n",
       "      <td>6.141142</td>\n",
       "      <td>6.430001</td>\n",
       "      <td>6.066039</td>\n",
       "      <td>6.430001</td>\n",
       "      <td>20521.2</td>\n",
       "      <td>131951.338708</td>\n",
       "      <td>405.0</td>\n",
       "      <td>0.060000</td>\n",
       "      <td>...</td>\n",
       "      <td>NaN</td>\n",
       "      <td>NaN</td>\n",
       "      <td>NaN</td>\n",
       "      <td>NaN</td>\n",
       "      <td>NaN</td>\n",
       "      <td>NaN</td>\n",
       "      <td>NaN</td>\n",
       "      <td>40653.6</td>\n",
       "      <td>NaN</td>\n",
       "      <td>0.029602</td>\n",
       "    </tr>\n",
       "  </tbody>\n",
       "</table>\n",
       "<p>5 rows × 29 columns</p>\n",
       "</div>"
      ],
      "text/plain": [
       "                   ex-dividend  split_ratio      open      high       low  \\\n",
       "ticker date                                                                 \n",
       "ABCB   2000-01-05          0.0          1.0  6.066039  6.066039  6.066039   \n",
       "       2000-01-06          0.0          1.0  6.175805  6.354898  6.141142   \n",
       "       2000-01-07          0.0          1.0  6.285572  6.354898  6.141142   \n",
       "       2000-01-10          0.0          1.0  6.354898  6.354898  6.066039   \n",
       "       2000-01-11          0.0          1.0  6.141142  6.430001  6.066039   \n",
       "\n",
       "                      close   volume  dollar-volume  daily-rank     ret_1  \\\n",
       "ticker date                                                                 \n",
       "ABCB   2000-01-05  6.066039   8169.6   49557.110415       307.0       NaN   \n",
       "       2000-01-06  6.141142   1459.2    8961.154577       130.0  0.012381   \n",
       "       2000-01-07  6.210468  12351.6   76709.219940       359.0  0.011289   \n",
       "       2000-01-10  6.066039   1848.0   11210.039665       148.0 -0.023256   \n",
       "       2000-01-11  6.430001  20521.2  131951.338708       405.0  0.060000   \n",
       "\n",
       "                   ...  bb_middle  bb_lower  RSI  MFI  macd  macdsignal  \\\n",
       "ticker date        ...                                                    \n",
       "ABCB   2000-01-05  ...        NaN       NaN  NaN  NaN   NaN         NaN   \n",
       "       2000-01-06  ...        NaN       NaN  NaN  NaN   NaN         NaN   \n",
       "       2000-01-07  ...        NaN       NaN  NaN  NaN   NaN         NaN   \n",
       "       2000-01-10  ...        NaN       NaN  NaN  NaN   NaN         NaN   \n",
       "       2000-01-11  ...        NaN       NaN  NaN  NaN   NaN         NaN   \n",
       "\n",
       "                   macdhist      OBV  NATR    fwd_1d  \n",
       "ticker date                                           \n",
       "ABCB   2000-01-05       NaN   8169.6   NaN -0.012230  \n",
       "       2000-01-06       NaN   9628.8   NaN -0.011163  \n",
       "       2000-01-07       NaN  21980.4   NaN  0.023810  \n",
       "       2000-01-10       NaN  20132.4   NaN -0.056604  \n",
       "       2000-01-11       NaN  40653.6   NaN  0.029602  \n",
       "\n",
       "[5 rows x 29 columns]"
      ]
     },
     "execution_count": 47,
     "metadata": {},
     "output_type": "execute_result"
    }
   ],
   "source": [
    "clean_df[\"fwd_1d\"] = clean_df['close'].pct_change(-1)\n",
    "clean_df.head()"
   ]
  },
  {
   "cell_type": "markdown",
   "metadata": {},
   "source": [
    "## Persist results"
   ]
  },
  {
   "cell_type": "code",
   "execution_count": 48,
   "metadata": {
    "ExecuteTime": {
     "end_time": "2020-07-14T13:19:11.145313Z",
     "start_time": "2020-07-14T13:19:10.820945Z"
    }
   },
   "outputs": [],
   "source": [
    "with pd.HDFStore(DATA_STORE) as store:\n",
    "        store.put('us_stocks_features', clean_df, format='table', data_columns=True)\n",
    "        store.put('us_stocks_beta6', betas6, format='table', data_columns=True)\n",
    "        store.put('us_stocks_beta12', betas12, format='table', data_columns=True)"
   ]
  },
  {
   "cell_type": "code",
   "execution_count": null,
   "metadata": {},
   "outputs": [],
   "source": []
  }
 ],
 "metadata": {
  "kernelspec": {
   "display_name": "Python 3 (ipykernel)",
   "language": "python",
   "name": "python3"
  },
  "language_info": {
   "codemirror_mode": {
    "name": "ipython",
    "version": 3
   },
   "file_extension": ".py",
   "mimetype": "text/x-python",
   "name": "python",
   "nbconvert_exporter": "python",
   "pygments_lexer": "ipython3",
   "version": "3.8.12"
  },
  "toc": {
   "base_numbering": 1,
   "nav_menu": {},
   "number_sections": true,
   "sideBar": true,
   "skip_h1_title": true,
   "title_cell": "Table of Contents",
   "title_sidebar": "Contents",
   "toc_cell": false,
   "toc_position": {
    "height": "calc(100% - 180px)",
    "left": "10px",
    "top": "150px",
    "width": "512px"
   },
   "toc_section_display": true,
   "toc_window_display": true
  }
 },
 "nbformat": 4,
 "nbformat_minor": 4
}
