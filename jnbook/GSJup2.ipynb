{
 "cells": [
  {
   "cell_type": "code",
   "execution_count": 1,
   "id": "ac9764c3",
   "metadata": {},
   "outputs": [],
   "source": [
    "import nltk"
   ]
  },
  {
   "cell_type": "code",
   "execution_count": 2,
   "id": "3a336e12",
   "metadata": {},
   "outputs": [
    {
     "name": "stdout",
     "output_type": "stream",
     "text": [
      "Collecting numpy\n",
      "  Downloading numpy-1.21.0-cp38-cp38-manylinux_2_12_x86_64.manylinux2010_x86_64.whl (15.7 MB)\n",
      "\u001b[K     |████████████████████████████████| 15.7 MB 484 kB/s eta 0:00:01    |████████████████▌               | 8.1 MB 499 kB/s eta 0:00:16\n",
      "\u001b[?25hInstalling collected packages: numpy\n",
      "Successfully installed numpy-1.21.0\n",
      "Note: you may need to restart the kernel to use updated packages.\n"
     ]
    }
   ],
   "source": [
    "pip install numpy"
   ]
  },
  {
   "cell_type": "code",
   "execution_count": 12,
   "id": "629a7024",
   "metadata": {},
   "outputs": [
    {
     "data": {
      "text/latex": [
       "$(a^2 + b^2 = c^2) $\n"
      ],
      "text/plain": [
       "<IPython.core.display.Latex object>"
      ]
     },
     "metadata": {},
     "output_type": "display_data"
    }
   ],
   "source": [
    "%%latex\n",
    "$(a^2 + b^2 = c^2) $"
   ]
  },
  {
   "cell_type": "markdown",
   "id": "408fc6c5",
   "metadata": {},
   "source": []
  },
  {
   "cell_type": "code",
   "execution_count": 1,
   "id": "59be0b7f",
   "metadata": {},
   "outputs": [],
   "source": [
    "\"\"\"Loop Implementaion\"\"\"\n",
    "def factorialA(n):\n",
    "    fact = 1\n",
    "    for i in range(1, n + 1):\n",
    "        fact = fact * i\n",
    "    return fact\n",
    "\n",
    "\"\"\"Recursive Implementation\"\"\"\n",
    "def factorialB(n):\n",
    "    if n == 1:\n",
    "        return n\n",
    "    else:\n",
    "        return n * factorialB(n - 1)"
   ]
  },
  {
   "cell_type": "code",
   "execution_count": 17,
   "id": "95a43697",
   "metadata": {},
   "outputs": [
    {
     "name": "stdout",
     "output_type": "stream",
     "text": [
      "10.4 µs ± 96.7 ns per loop (mean ± std. dev. of 7 runs, 100000 loops each)\n"
     ]
    }
   ],
   "source": [
    "%timeit x = factorialA(100)"
   ]
  },
  {
   "cell_type": "code",
   "execution_count": 18,
   "id": "e28c8d55",
   "metadata": {},
   "outputs": [
    {
     "name": "stdout",
     "output_type": "stream",
     "text": [
      "26.1 µs ± 615 ns per loop (mean ± std. dev. of 7 runs, 10000 loops each)\n"
     ]
    }
   ],
   "source": [
    "%timeit x = factorialB(100)"
   ]
  },
  {
   "cell_type": "code",
   "execution_count": 3,
   "id": "66031a93",
   "metadata": {},
   "outputs": [
    {
     "data": {
      "text/html": [
       "\n",
       "<iframe width=300 height=300\n",
       "  src=\"https://www.youtube.com/watch?v=Y7uNT0alrKk&ab_channel=ManningPublications\"/>\n",
       "    \n",
       "Table of Contents\n",
       "    1. Section \n",
       "        1.1 SS1\n",
       "        1.2 SS2\n"
      ],
      "text/plain": [
       "<IPython.core.display.HTML object>"
      ]
     },
     "metadata": {},
     "output_type": "display_data"
    }
   ],
   "source": [
    "%%HTML\n",
    "\n",
    "<iframe width=300 height=300\n",
    "  src=\"https://www.youtube.com/watch?v=Y7uNT0alrKk&ab_channel=ManningPublications\"/>\n",
    "    "
   ]
  },
  {
   "cell_type": "code",
   "execution_count": 1,
   "id": "6072d228",
   "metadata": {},
   "outputs": [
    {
     "name": "stdout",
     "output_type": "stream",
     "text": [
      "Requirement already satisfied: jupyter_contrib_nbextensions in ./lib/python3.8/site-packages (0.5.1)\n",
      "Requirement already satisfied: lxml in ./lib/python3.8/site-packages (from jupyter_contrib_nbextensions) (4.7.1)\n",
      "Requirement already satisfied: nbconvert>=4.2 in ./lib/python3.8/site-packages (from jupyter_contrib_nbextensions) (6.1.0)\n",
      "Requirement already satisfied: traitlets>=4.1 in ./lib/python3.8/site-packages (from jupyter_contrib_nbextensions) (5.0.5)\n",
      "Requirement already satisfied: jupyter-core in ./lib/python3.8/site-packages (from jupyter_contrib_nbextensions) (4.7.1)\n",
      "Requirement already satisfied: ipython-genutils in ./lib/python3.8/site-packages (from jupyter_contrib_nbextensions) (0.2.0)\n",
      "Requirement already satisfied: notebook>=4.0 in ./lib/python3.8/site-packages (from jupyter_contrib_nbextensions) (6.4.0)\n",
      "Requirement already satisfied: tornado in ./lib/python3.8/site-packages (from jupyter_contrib_nbextensions) (6.1)\n",
      "Requirement already satisfied: jupyter-contrib-core>=0.3.3 in ./lib/python3.8/site-packages (from jupyter_contrib_nbextensions) (0.3.3)\n",
      "Requirement already satisfied: jupyter-latex-envs>=1.3.8 in ./lib/python3.8/site-packages (from jupyter_contrib_nbextensions) (1.4.6)\n",
      "Requirement already satisfied: jupyter-nbextensions-configurator>=0.4.0 in ./lib/python3.8/site-packages (from jupyter_contrib_nbextensions) (0.4.1)\n",
      "Requirement already satisfied: pyyaml in ./lib/python3.8/site-packages (from jupyter_contrib_nbextensions) (6.0)\n",
      "Requirement already satisfied: jupyter-highlight-selected-word>=0.1.1 in ./lib/python3.8/site-packages (from jupyter_contrib_nbextensions) (0.2.0)\n",
      "Requirement already satisfied: bleach in ./lib/python3.8/site-packages (from nbconvert>=4.2->jupyter_contrib_nbextensions) (3.3.0)\n",
      "Requirement already satisfied: nbformat>=4.4 in ./lib/python3.8/site-packages (from nbconvert>=4.2->jupyter_contrib_nbextensions) (5.1.3)\n",
      "Requirement already satisfied: entrypoints>=0.2.2 in ./lib/python3.8/site-packages (from nbconvert>=4.2->jupyter_contrib_nbextensions) (0.3)\n",
      "Requirement already satisfied: jinja2>=2.4 in ./lib/python3.8/site-packages (from nbconvert>=4.2->jupyter_contrib_nbextensions) (3.0.1)\n",
      "Requirement already satisfied: jupyterlab-pygments in ./lib/python3.8/site-packages (from nbconvert>=4.2->jupyter_contrib_nbextensions) (0.1.2)\n",
      "Requirement already satisfied: pygments>=2.4.1 in ./lib/python3.8/site-packages (from nbconvert>=4.2->jupyter_contrib_nbextensions) (2.9.0)\n",
      "Requirement already satisfied: defusedxml in ./lib/python3.8/site-packages (from nbconvert>=4.2->jupyter_contrib_nbextensions) (0.7.1)\n",
      "Requirement already satisfied: pandocfilters>=1.4.1 in ./lib/python3.8/site-packages (from nbconvert>=4.2->jupyter_contrib_nbextensions) (1.4.3)\n",
      "Requirement already satisfied: nbclient<0.6.0,>=0.5.0 in ./lib/python3.8/site-packages (from nbconvert>=4.2->jupyter_contrib_nbextensions) (0.5.3)\n",
      "Requirement already satisfied: mistune<2,>=0.8.1 in ./lib/python3.8/site-packages (from nbconvert>=4.2->jupyter_contrib_nbextensions) (0.8.4)\n",
      "Requirement already satisfied: testpath in ./lib/python3.8/site-packages (from nbconvert>=4.2->jupyter_contrib_nbextensions) (0.5.0)\n",
      "Requirement already satisfied: pyzmq>=17 in ./lib/python3.8/site-packages (from notebook>=4.0->jupyter_contrib_nbextensions) (22.1.0)\n",
      "Requirement already satisfied: terminado>=0.8.3 in ./lib/python3.8/site-packages (from notebook>=4.0->jupyter_contrib_nbextensions) (0.10.1)\n",
      "Requirement already satisfied: argon2-cffi in ./lib/python3.8/site-packages (from notebook>=4.0->jupyter_contrib_nbextensions) (20.1.0)\n",
      "Requirement already satisfied: prometheus-client in ./lib/python3.8/site-packages (from notebook>=4.0->jupyter_contrib_nbextensions) (0.11.0)\n",
      "Requirement already satisfied: Send2Trash>=1.5.0 in ./lib/python3.8/site-packages (from notebook>=4.0->jupyter_contrib_nbextensions) (1.7.1)\n",
      "Requirement already satisfied: jupyter-client>=5.3.4 in ./lib/python3.8/site-packages (from notebook>=4.0->jupyter_contrib_nbextensions) (6.1.12)\n",
      "Requirement already satisfied: ipykernel in ./lib/python3.8/site-packages (from notebook>=4.0->jupyter_contrib_nbextensions) (6.0.1)\n",
      "Requirement already satisfied: setuptools in ./lib/python3.8/site-packages (from jupyter-contrib-core>=0.3.3->jupyter_contrib_nbextensions) (44.0.0)\n",
      "Requirement already satisfied: ipython in ./lib/python3.8/site-packages (from jupyter-latex-envs>=1.3.8->jupyter_contrib_nbextensions) (7.25.0)\n",
      "Requirement already satisfied: webencodings in ./lib/python3.8/site-packages (from bleach->nbconvert>=4.2->jupyter_contrib_nbextensions) (0.5.1)\n",
      "Requirement already satisfied: packaging in ./lib/python3.8/site-packages (from bleach->nbconvert>=4.2->jupyter_contrib_nbextensions) (20.9)\n",
      "Requirement already satisfied: six>=1.9.0 in ./lib/python3.8/site-packages (from bleach->nbconvert>=4.2->jupyter_contrib_nbextensions) (1.16.0)\n",
      "Requirement already satisfied: jsonschema!=2.5.0,>=2.4 in ./lib/python3.8/site-packages (from nbformat>=4.4->nbconvert>=4.2->jupyter_contrib_nbextensions) (3.2.0)\n",
      "Requirement already satisfied: MarkupSafe>=2.0 in ./lib/python3.8/site-packages (from jinja2>=2.4->nbconvert>=4.2->jupyter_contrib_nbextensions) (2.0.1)\n",
      "Requirement already satisfied: nest-asyncio in ./lib/python3.8/site-packages (from nbclient<0.6.0,>=0.5.0->nbconvert>=4.2->jupyter_contrib_nbextensions) (1.5.1)\n",
      "Requirement already satisfied: async-generator in ./lib/python3.8/site-packages (from nbclient<0.6.0,>=0.5.0->nbconvert>=4.2->jupyter_contrib_nbextensions) (1.10)\n",
      "Requirement already satisfied: ptyprocess; os_name != \"nt\" in ./lib/python3.8/site-packages (from terminado>=0.8.3->notebook>=4.0->jupyter_contrib_nbextensions) (0.7.0)\n",
      "Requirement already satisfied: cffi>=1.0.0 in ./lib/python3.8/site-packages (from argon2-cffi->notebook>=4.0->jupyter_contrib_nbextensions) (1.14.5)\n",
      "Requirement already satisfied: python-dateutil>=2.1 in ./lib/python3.8/site-packages (from jupyter-client>=5.3.4->notebook>=4.0->jupyter_contrib_nbextensions) (2.8.1)\n",
      "Requirement already satisfied: debugpy>=1.0.0 in ./lib/python3.8/site-packages (from ipykernel->notebook>=4.0->jupyter_contrib_nbextensions) (1.3.0)\n",
      "Requirement already satisfied: pexpect>4.3; sys_platform != \"win32\" in ./lib/python3.8/site-packages (from ipython->jupyter-latex-envs>=1.3.8->jupyter_contrib_nbextensions) (4.8.0)\n",
      "Requirement already satisfied: pickleshare in ./lib/python3.8/site-packages (from ipython->jupyter-latex-envs>=1.3.8->jupyter_contrib_nbextensions) (0.7.5)\n",
      "Requirement already satisfied: matplotlib-inline in ./lib/python3.8/site-packages (from ipython->jupyter-latex-envs>=1.3.8->jupyter_contrib_nbextensions) (0.1.2)\n",
      "Requirement already satisfied: jedi>=0.16 in ./lib/python3.8/site-packages (from ipython->jupyter-latex-envs>=1.3.8->jupyter_contrib_nbextensions) (0.18.0)\n",
      "Requirement already satisfied: prompt-toolkit!=3.0.0,!=3.0.1,<3.1.0,>=2.0.0 in ./lib/python3.8/site-packages (from ipython->jupyter-latex-envs>=1.3.8->jupyter_contrib_nbextensions) (3.0.19)\n",
      "Requirement already satisfied: decorator in ./lib/python3.8/site-packages (from ipython->jupyter-latex-envs>=1.3.8->jupyter_contrib_nbextensions) (5.0.9)\n",
      "Requirement already satisfied: backcall in ./lib/python3.8/site-packages (from ipython->jupyter-latex-envs>=1.3.8->jupyter_contrib_nbextensions) (0.2.0)\n",
      "Requirement already satisfied: pyparsing>=2.0.2 in ./lib/python3.8/site-packages (from packaging->bleach->nbconvert>=4.2->jupyter_contrib_nbextensions) (2.4.7)\n",
      "Requirement already satisfied: pyrsistent>=0.14.0 in ./lib/python3.8/site-packages (from jsonschema!=2.5.0,>=2.4->nbformat>=4.4->nbconvert>=4.2->jupyter_contrib_nbextensions) (0.18.0)\n",
      "Requirement already satisfied: attrs>=17.4.0 in ./lib/python3.8/site-packages (from jsonschema!=2.5.0,>=2.4->nbformat>=4.4->nbconvert>=4.2->jupyter_contrib_nbextensions) (21.2.0)\n",
      "Requirement already satisfied: pycparser in ./lib/python3.8/site-packages (from cffi>=1.0.0->argon2-cffi->notebook>=4.0->jupyter_contrib_nbextensions) (2.20)\n",
      "Requirement already satisfied: parso<0.9.0,>=0.8.0 in ./lib/python3.8/site-packages (from jedi>=0.16->ipython->jupyter-latex-envs>=1.3.8->jupyter_contrib_nbextensions) (0.8.2)\n",
      "Requirement already satisfied: wcwidth in ./lib/python3.8/site-packages (from prompt-toolkit!=3.0.0,!=3.0.1,<3.1.0,>=2.0.0->ipython->jupyter-latex-envs>=1.3.8->jupyter_contrib_nbextensions) (0.2.5)\n"
     ]
    },
    {
     "name": "stdout",
     "output_type": "stream",
     "text": [
      "Note: you may need to restart the kernel to use updated packages.\n"
     ]
    }
   ],
   "source": [
    "pip install jupyter_contrib_nbextensions"
   ]
  },
  {
   "cell_type": "markdown",
   "id": "83ef05bb",
   "metadata": {},
   "source": [
    "# ToC\n",
    "## Sec 1\n",
    "### SS1\n",
    "### SS2"
   ]
  },
  {
   "cell_type": "code",
   "execution_count": 5,
   "id": "e8d5b132",
   "metadata": {},
   "outputs": [],
   "source": [
    "def combinations(iterable, r):\n",
    "    from itertools import permutations\n",
    "    pool = tuple(iterable)\n",
    "    n = len(pool)\n",
    "    for indices in permutations(range(n), r) :\n",
    "        if sorted(indices) == len(indices) :\n",
    "            yield(tuple(pool[i] for i in indices))"
   ]
  },
  {
   "cell_type": "code",
   "execution_count": null,
   "id": "5c524f5a",
   "metadata": {},
   "outputs": [],
   "source": []
  }
 ],
 "metadata": {
  "kernelspec": {
   "display_name": "gsjup",
   "language": "python",
   "name": "gsjup"
  },
  "language_info": {
   "codemirror_mode": {
    "name": "ipython",
    "version": 3
   },
   "file_extension": ".py",
   "mimetype": "text/x-python",
   "name": "python",
   "nbconvert_exporter": "python",
   "pygments_lexer": "ipython3",
   "version": "3.8.10"
  },
  "toc": {
   "base_numbering": 1,
   "nav_menu": {},
   "number_sections": true,
   "sideBar": true,
   "skip_h1_title": false,
   "title_cell": "Table of Contents",
   "title_sidebar": "Contents",
   "toc_cell": false,
   "toc_position": {
    "height": "calc(100% - 180px)",
    "left": "10px",
    "top": "150px",
    "width": "369.6px"
   },
   "toc_section_display": true,
   "toc_window_display": true
  }
 },
 "nbformat": 4,
 "nbformat_minor": 5
}
